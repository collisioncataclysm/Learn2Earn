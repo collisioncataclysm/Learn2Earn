{
 "cells": [
  {
   "cell_type": "code",
   "execution_count": 15,
   "id": "d464415d-87e2-44bc-94a2-4efabf0eb0a2",
   "metadata": {},
   "outputs": [
    {
     "name": "stdout",
     "output_type": "stream",
     "text": [
      "(887379, 29)\n"
     ]
    }
   ],
   "source": [
    "import pandas as pd\n",
    "loans = pd.read_csv(\n",
    "    \"https://media.githubusercontent.com/media/onlyphantom/python4bankers/main/data_input/loan_new.csv\",\n",
    "    index_col='id',\n",
    "    parse_dates=['issue_d']\n",
    ")\n",
    "\n",
    "# 1. make a copy of loans, save it as 'df'\n",
    "# your code below ---\n",
    "df = loans.copy()\n",
    "\n",
    "# 2. find the number or rows and columns of 'df' using .shape\n",
    "# your code below ---\n",
    "print(df.shape)\n"
   ]
  },
  {
   "cell_type": "code",
   "execution_count": 16,
   "id": "e67271d5-0389-4a2e-b3ba-967acba46639",
   "metadata": {
    "collapsed": true,
    "jupyter": {
     "outputs_hidden": true
    },
    "tags": []
   },
   "outputs": [
    {
     "data": {
      "text/plain": [
       "Index(['year', 'issue_d', 'final_d', 'emp_length_int', 'home_ownership',\n",
       "       'home_ownership_cat', 'income_category', 'annual_inc', 'income_cat',\n",
       "       'loan_amount', 'term', 'term_cat', 'application_type',\n",
       "       'application_type_cat', 'purpose', 'purpose_cat', 'interest_payments',\n",
       "       'interest_payment_cat', 'loan_condition', 'loan_condition_cat',\n",
       "       'interest_rate', 'grade', 'grade_cat', 'dti', 'total_pymnt',\n",
       "       'total_rec_prncp', 'recoveries', 'installment', 'region'],\n",
       "      dtype='object')"
      ]
     },
     "execution_count": 16,
     "metadata": {},
     "output_type": "execute_result"
    }
   ],
   "source": [
    "df.columns"
   ]
  },
  {
   "cell_type": "code",
   "execution_count": 17,
   "id": "a64b750b-d1f4-4613-ad68-2afbace3ac8b",
   "metadata": {},
   "outputs": [],
   "source": [
    "# 3. use the .drop() method, and remove application_type_cat and final_d from 'df' \n",
    "# eg. .drop(['', ''], axis=__)\n",
    "# your code below ---\n",
    "df = df.drop(['application_type_cat', 'final_d'], axis=1)\n",
    "\n",
    "# 4. use the .rename() method, rename 'dti' to 'debt_to_income' and \n",
    "# rename 'total_rec_prncp' to 'received_principle'\n",
    "# eg. .rename(columns={'old_name': 'new_name'})\n",
    "# your code below ---\n",
    "df = df.rename(columns={\n",
    "    \"dti\": \"debt_to_income\",\n",
    "    \"total_rec_prncp\": \"received_principle\"\n",
    "})\n"
   ]
  },
  {
   "cell_type": "code",
   "execution_count": 20,
   "id": "d5237477-999c-4a59-9d19-466f1011d97b",
   "metadata": {},
   "outputs": [
    {
     "name": "stdout",
     "output_type": "stream",
     "text": [
      "(887378, 27)\n"
     ]
    }
   ],
   "source": [
    "# 5. We're told that the first row is a misrecording. Rectify that by dropping the first row. \n",
    "# Verify that you've done this correctly by printing the number of rows of the resulting 'df'\n",
    "# eg. .drop(100030405)\n",
    "# your code below ---\n",
    "df = df.drop(1077501)\n",
    "print(df.shape)"
   ]
  },
  {
   "cell_type": "code",
   "execution_count": 21,
   "id": "e2b2eca6-279d-40df-8540-1d8d3e5b2d6f",
   "metadata": {},
   "outputs": [
    {
     "name": "stdout",
     "output_type": "stream",
     "text": [
      "887379\n"
     ]
    }
   ],
   "source": [
    "print(loans.shape[0])"
   ]
  },
  {
   "cell_type": "code",
   "execution_count": 23,
   "id": "041a66b5-175f-4ad5-aede-a90a46e441e5",
   "metadata": {},
   "outputs": [
    {
     "data": {
      "text/html": [
       "<div>\n",
       "<style scoped>\n",
       "    .dataframe tbody tr th:only-of-type {\n",
       "        vertical-align: middle;\n",
       "    }\n",
       "\n",
       "    .dataframe tbody tr th {\n",
       "        vertical-align: top;\n",
       "    }\n",
       "\n",
       "    .dataframe thead th {\n",
       "        text-align: right;\n",
       "    }\n",
       "</style>\n",
       "<table border=\"1\" class=\"dataframe\">\n",
       "  <thead>\n",
       "    <tr style=\"text-align: right;\">\n",
       "      <th></th>\n",
       "      <th>year</th>\n",
       "      <th>issue_d</th>\n",
       "      <th>emp_length_int</th>\n",
       "      <th>home_ownership</th>\n",
       "      <th>home_ownership_cat</th>\n",
       "      <th>income_category</th>\n",
       "      <th>annual_inc</th>\n",
       "      <th>income_cat</th>\n",
       "      <th>loan_amount</th>\n",
       "      <th>term</th>\n",
       "      <th>...</th>\n",
       "      <th>loan_condition_cat</th>\n",
       "      <th>interest_rate</th>\n",
       "      <th>grade</th>\n",
       "      <th>grade_cat</th>\n",
       "      <th>debt_to_income</th>\n",
       "      <th>total_pymnt</th>\n",
       "      <th>received_principle</th>\n",
       "      <th>recoveries</th>\n",
       "      <th>installment</th>\n",
       "      <th>region</th>\n",
       "    </tr>\n",
       "    <tr>\n",
       "      <th>id</th>\n",
       "      <th></th>\n",
       "      <th></th>\n",
       "      <th></th>\n",
       "      <th></th>\n",
       "      <th></th>\n",
       "      <th></th>\n",
       "      <th></th>\n",
       "      <th></th>\n",
       "      <th></th>\n",
       "      <th></th>\n",
       "      <th></th>\n",
       "      <th></th>\n",
       "      <th></th>\n",
       "      <th></th>\n",
       "      <th></th>\n",
       "      <th></th>\n",
       "      <th></th>\n",
       "      <th></th>\n",
       "      <th></th>\n",
       "      <th></th>\n",
       "      <th></th>\n",
       "    </tr>\n",
       "  </thead>\n",
       "  <tbody>\n",
       "    <tr>\n",
       "      <th>1077430</th>\n",
       "      <td>2011</td>\n",
       "      <td>2011-01-12</td>\n",
       "      <td>0.5</td>\n",
       "      <td>RENT</td>\n",
       "      <td>1</td>\n",
       "      <td>Low</td>\n",
       "      <td>30000</td>\n",
       "      <td>1</td>\n",
       "      <td>2500</td>\n",
       "      <td>60 months</td>\n",
       "      <td>...</td>\n",
       "      <td>1</td>\n",
       "      <td>15.27</td>\n",
       "      <td>C</td>\n",
       "      <td>3</td>\n",
       "      <td>1.00</td>\n",
       "      <td>1008.710000</td>\n",
       "      <td>456.46</td>\n",
       "      <td>117.08</td>\n",
       "      <td>59.83</td>\n",
       "      <td>leinster</td>\n",
       "    </tr>\n",
       "    <tr>\n",
       "      <th>1077175</th>\n",
       "      <td>2011</td>\n",
       "      <td>2011-01-12</td>\n",
       "      <td>10.0</td>\n",
       "      <td>RENT</td>\n",
       "      <td>1</td>\n",
       "      <td>Low</td>\n",
       "      <td>12252</td>\n",
       "      <td>1</td>\n",
       "      <td>2400</td>\n",
       "      <td>36 months</td>\n",
       "      <td>...</td>\n",
       "      <td>0</td>\n",
       "      <td>15.96</td>\n",
       "      <td>C</td>\n",
       "      <td>3</td>\n",
       "      <td>8.72</td>\n",
       "      <td>3003.653644</td>\n",
       "      <td>2400.00</td>\n",
       "      <td>0.00</td>\n",
       "      <td>84.33</td>\n",
       "      <td>cannught</td>\n",
       "    </tr>\n",
       "    <tr>\n",
       "      <th>1076863</th>\n",
       "      <td>2011</td>\n",
       "      <td>2011-01-12</td>\n",
       "      <td>10.0</td>\n",
       "      <td>RENT</td>\n",
       "      <td>1</td>\n",
       "      <td>Low</td>\n",
       "      <td>49200</td>\n",
       "      <td>1</td>\n",
       "      <td>10000</td>\n",
       "      <td>36 months</td>\n",
       "      <td>...</td>\n",
       "      <td>0</td>\n",
       "      <td>13.49</td>\n",
       "      <td>C</td>\n",
       "      <td>3</td>\n",
       "      <td>20.00</td>\n",
       "      <td>12226.302210</td>\n",
       "      <td>10000.00</td>\n",
       "      <td>0.00</td>\n",
       "      <td>339.31</td>\n",
       "      <td>ulster</td>\n",
       "    </tr>\n",
       "  </tbody>\n",
       "</table>\n",
       "<p>3 rows × 27 columns</p>\n",
       "</div>"
      ],
      "text/plain": [
       "         year    issue_d  emp_length_int home_ownership  home_ownership_cat  \\\n",
       "id                                                                            \n",
       "1077430  2011 2011-01-12             0.5           RENT                   1   \n",
       "1077175  2011 2011-01-12            10.0           RENT                   1   \n",
       "1076863  2011 2011-01-12            10.0           RENT                   1   \n",
       "\n",
       "        income_category  annual_inc  income_cat  loan_amount        term  ...  \\\n",
       "id                                                                        ...   \n",
       "1077430             Low       30000           1         2500   60 months  ...   \n",
       "1077175             Low       12252           1         2400   36 months  ...   \n",
       "1076863             Low       49200           1        10000   36 months  ...   \n",
       "\n",
       "         loan_condition_cat interest_rate grade  grade_cat debt_to_income  \\\n",
       "id                                                                          \n",
       "1077430                   1         15.27     C          3           1.00   \n",
       "1077175                   0         15.96     C          3           8.72   \n",
       "1076863                   0         13.49     C          3          20.00   \n",
       "\n",
       "          total_pymnt received_principle  recoveries  installment    region  \n",
       "id                                                                           \n",
       "1077430   1008.710000             456.46      117.08        59.83  leinster  \n",
       "1077175   3003.653644            2400.00        0.00        84.33  cannught  \n",
       "1076863  12226.302210           10000.00        0.00       339.31    ulster  \n",
       "\n",
       "[3 rows x 27 columns]"
      ]
     },
     "execution_count": 23,
     "metadata": {},
     "output_type": "execute_result"
    }
   ],
   "source": [
    "df.head(3)"
   ]
  },
  {
   "cell_type": "code",
   "execution_count": 29,
   "id": "c883cece-7b22-418a-ba99-dd86e65a8866",
   "metadata": {},
   "outputs": [
    {
     "data": {
      "text/plain": [
       "dict"
      ]
     },
     "execution_count": 29,
     "metadata": {},
     "output_type": "execute_result"
    }
   ],
   "source": [
    "customers = {\n",
    "    'name': ['NTUC Income', 'GIC'],\n",
    "    'since': [pd.Timestamp('19970314'), pd.Timestamp('20030120')],\n",
    "    'signatories': [3, 6],\n",
    "    'industry': ['Financial', 'Sovereign'],\n",
    "    'requireKYC': [True, False],\n",
    "    'aum': [41.9, 488]\n",
    "}\n",
    "\n",
    "type(customers)"
   ]
  },
  {
   "cell_type": "code",
   "execution_count": 39,
   "id": "5a249946-951a-45a4-aba5-e86105116e13",
   "metadata": {},
   "outputs": [
    {
     "data": {
      "text/html": [
       "<div>\n",
       "<style scoped>\n",
       "    .dataframe tbody tr th:only-of-type {\n",
       "        vertical-align: middle;\n",
       "    }\n",
       "\n",
       "    .dataframe tbody tr th {\n",
       "        vertical-align: top;\n",
       "    }\n",
       "\n",
       "    .dataframe thead th {\n",
       "        text-align: right;\n",
       "    }\n",
       "</style>\n",
       "<table border=\"1\" class=\"dataframe\">\n",
       "  <thead>\n",
       "    <tr style=\"text-align: right;\">\n",
       "      <th></th>\n",
       "      <th>name</th>\n",
       "      <th>since</th>\n",
       "      <th>signatories</th>\n",
       "      <th>industry</th>\n",
       "      <th>requireKYC</th>\n",
       "      <th>aum</th>\n",
       "    </tr>\n",
       "  </thead>\n",
       "  <tbody>\n",
       "    <tr>\n",
       "      <th>0</th>\n",
       "      <td>NTUC Income</td>\n",
       "      <td>1997-03-14</td>\n",
       "      <td>3</td>\n",
       "      <td>Financial</td>\n",
       "      <td>True</td>\n",
       "      <td>41.9</td>\n",
       "    </tr>\n",
       "    <tr>\n",
       "      <th>1</th>\n",
       "      <td>GIC</td>\n",
       "      <td>2003-01-20</td>\n",
       "      <td>6</td>\n",
       "      <td>Sovereign</td>\n",
       "      <td>False</td>\n",
       "      <td>488.0</td>\n",
       "    </tr>\n",
       "  </tbody>\n",
       "</table>\n",
       "</div>"
      ],
      "text/plain": [
       "          name      since  signatories   industry  requireKYC    aum\n",
       "0  NTUC Income 1997-03-14            3  Financial        True   41.9\n",
       "1          GIC 2003-01-20            6  Sovereign       False  488.0"
      ]
     },
     "execution_count": 39,
     "metadata": {},
     "output_type": "execute_result"
    }
   ],
   "source": [
    "x = pd.DataFrame(customers)\n",
    "x"
   ]
  },
  {
   "cell_type": "code",
   "execution_count": 43,
   "id": "545f8c5e-87f8-4670-9c3a-91b63045a642",
   "metadata": {},
   "outputs": [
    {
     "data": {
      "text/html": [
       "<div>\n",
       "<style scoped>\n",
       "    .dataframe tbody tr th:only-of-type {\n",
       "        vertical-align: middle;\n",
       "    }\n",
       "\n",
       "    .dataframe tbody tr th {\n",
       "        vertical-align: top;\n",
       "    }\n",
       "\n",
       "    .dataframe thead th {\n",
       "        text-align: right;\n",
       "    }\n",
       "</style>\n",
       "<table border=\"1\" class=\"dataframe\">\n",
       "  <thead>\n",
       "    <tr style=\"text-align: right;\">\n",
       "      <th></th>\n",
       "      <th>1</th>\n",
       "      <th>since</th>\n",
       "      <th>signatories</th>\n",
       "      <th>industry</th>\n",
       "      <th>requireKYC</th>\n",
       "      <th>aum</th>\n",
       "    </tr>\n",
       "  </thead>\n",
       "  <tbody>\n",
       "    <tr>\n",
       "      <th>0</th>\n",
       "      <td>NTUC Income</td>\n",
       "      <td>1997-03-14</td>\n",
       "      <td>3</td>\n",
       "      <td>Financial</td>\n",
       "      <td>True</td>\n",
       "      <td>41.9</td>\n",
       "    </tr>\n",
       "    <tr>\n",
       "      <th>1</th>\n",
       "      <td>GIC</td>\n",
       "      <td>2003-01-20</td>\n",
       "      <td>6</td>\n",
       "      <td>Sovereign</td>\n",
       "      <td>False</td>\n",
       "      <td>488.0</td>\n",
       "    </tr>\n",
       "  </tbody>\n",
       "</table>\n",
       "</div>"
      ],
      "text/plain": [
       "             1      since  signatories   industry  requireKYC    aum\n",
       "0  NTUC Income 1997-03-14            3  Financial        True   41.9\n",
       "1          GIC 2003-01-20            6  Sovereign       False  488.0"
      ]
     },
     "execution_count": 43,
     "metadata": {},
     "output_type": "execute_result"
    }
   ],
   "source": [
    "x.rename(columns={'name': 1}, inplace=True)\n",
    "x"
   ]
  },
  {
   "cell_type": "code",
   "execution_count": 42,
   "id": "f8e3bf5c-8bba-4afd-8de3-780e2af34432",
   "metadata": {},
   "outputs": [
    {
     "data": {
      "text/html": [
       "<div>\n",
       "<style scoped>\n",
       "    .dataframe tbody tr th:only-of-type {\n",
       "        vertical-align: middle;\n",
       "    }\n",
       "\n",
       "    .dataframe tbody tr th {\n",
       "        vertical-align: top;\n",
       "    }\n",
       "\n",
       "    .dataframe thead th {\n",
       "        text-align: right;\n",
       "    }\n",
       "</style>\n",
       "<table border=\"1\" class=\"dataframe\">\n",
       "  <thead>\n",
       "    <tr style=\"text-align: right;\">\n",
       "      <th></th>\n",
       "      <th>name</th>\n",
       "      <th>since</th>\n",
       "      <th>signatories</th>\n",
       "      <th>industry</th>\n",
       "      <th>requireKYC</th>\n",
       "      <th>aum</th>\n",
       "    </tr>\n",
       "  </thead>\n",
       "  <tbody>\n",
       "    <tr>\n",
       "      <th>0</th>\n",
       "      <td>NTUC Income</td>\n",
       "      <td>1997-03-14</td>\n",
       "      <td>3</td>\n",
       "      <td>Financial</td>\n",
       "      <td>True</td>\n",
       "      <td>41.9</td>\n",
       "    </tr>\n",
       "    <tr>\n",
       "      <th>1</th>\n",
       "      <td>GIC</td>\n",
       "      <td>2003-01-20</td>\n",
       "      <td>6</td>\n",
       "      <td>Sovereign</td>\n",
       "      <td>False</td>\n",
       "      <td>488.0</td>\n",
       "    </tr>\n",
       "  </tbody>\n",
       "</table>\n",
       "</div>"
      ],
      "text/plain": [
       "          name      since  signatories   industry  requireKYC    aum\n",
       "0  NTUC Income 1997-03-14            3  Financial        True   41.9\n",
       "1          GIC 2003-01-20            6  Sovereign       False  488.0"
      ]
     },
     "execution_count": 42,
     "metadata": {},
     "output_type": "execute_result"
    }
   ],
   "source": [
    "# using square bracket, x[start:end] where end is not inclusive\n",
    "x[:3]"
   ]
  },
  {
   "cell_type": "code",
   "execution_count": 46,
   "id": "6d6ff772-2856-4da6-ac10-f6f106b6feda",
   "metadata": {},
   "outputs": [
    {
     "data": {
      "text/plain": [
       "0    NTUC Income\n",
       "1            GIC\n",
       "Name: 1, dtype: object"
      ]
     },
     "execution_count": 46,
     "metadata": {},
     "output_type": "execute_result"
    }
   ],
   "source": [
    "x[1]"
   ]
  },
  {
   "cell_type": "code",
   "execution_count": 55,
   "id": "7a48ebdc-e6e8-4642-b74b-4c656afcaac5",
   "metadata": {},
   "outputs": [
    {
     "data": {
      "text/plain": [
       "Index(['year', 'issue_d', 'emp_length_int', 'home_ownership',\n",
       "       'home_ownership_cat', 'income_category', 'annual_inc', 'income_cat',\n",
       "       'loan_amount', 'term', 'term_cat', 'application_type', 'purpose',\n",
       "       'purpose_cat', 'interest_payments', 'interest_payment_cat',\n",
       "       'loan_condition', 'loan_condition_cat', 'interest_rate', 'grade',\n",
       "       'grade_cat', 'debt_to_income', 'total_pymnt', 'received_principle',\n",
       "       'recoveries', 'installment', 'region'],\n",
       "      dtype='object')"
      ]
     },
     "execution_count": 55,
     "metadata": {},
     "output_type": "execute_result"
    }
   ],
   "source": [
    "df.columns"
   ]
  },
  {
   "cell_type": "code",
   "execution_count": 59,
   "id": "c9cd7058-64ac-4d4d-89a8-03a92bb5e7af",
   "metadata": {},
   "outputs": [
    {
     "data": {
      "text/plain": [
       "count    887378.000000\n",
       "mean          6.050560\n",
       "std           3.507404\n",
       "min           0.500000\n",
       "25%           3.000000\n",
       "50%           6.050000\n",
       "75%          10.000000\n",
       "max          10.000000\n",
       "Name: emp_length_int, dtype: float64"
      ]
     },
     "execution_count": 59,
     "metadata": {},
     "output_type": "execute_result"
    }
   ],
   "source": [
    "df['emp_length_int'].describe()"
   ]
  },
  {
   "cell_type": "code",
   "execution_count": 56,
   "id": "91d81ab0-5eae-487e-aa0a-e240038b4d5a",
   "metadata": {},
   "outputs": [
    {
     "data": {
      "text/html": [
       "<div>\n",
       "<style scoped>\n",
       "    .dataframe tbody tr th:only-of-type {\n",
       "        vertical-align: middle;\n",
       "    }\n",
       "\n",
       "    .dataframe tbody tr th {\n",
       "        vertical-align: top;\n",
       "    }\n",
       "\n",
       "    .dataframe thead th {\n",
       "        text-align: right;\n",
       "    }\n",
       "</style>\n",
       "<table border=\"1\" class=\"dataframe\">\n",
       "  <thead>\n",
       "    <tr style=\"text-align: right;\">\n",
       "      <th></th>\n",
       "      <th>purpose</th>\n",
       "      <th>home_ownership</th>\n",
       "      <th>region</th>\n",
       "    </tr>\n",
       "    <tr>\n",
       "      <th>id</th>\n",
       "      <th></th>\n",
       "      <th></th>\n",
       "      <th></th>\n",
       "    </tr>\n",
       "  </thead>\n",
       "  <tbody>\n",
       "    <tr>\n",
       "      <th>1077430</th>\n",
       "      <td>car</td>\n",
       "      <td>RENT</td>\n",
       "      <td>leinster</td>\n",
       "    </tr>\n",
       "    <tr>\n",
       "      <th>1077175</th>\n",
       "      <td>small_business</td>\n",
       "      <td>RENT</td>\n",
       "      <td>cannught</td>\n",
       "    </tr>\n",
       "    <tr>\n",
       "      <th>1076863</th>\n",
       "      <td>other</td>\n",
       "      <td>RENT</td>\n",
       "      <td>ulster</td>\n",
       "    </tr>\n",
       "    <tr>\n",
       "      <th>1075358</th>\n",
       "      <td>other</td>\n",
       "      <td>RENT</td>\n",
       "      <td>ulster</td>\n",
       "    </tr>\n",
       "    <tr>\n",
       "      <th>1075269</th>\n",
       "      <td>wedding</td>\n",
       "      <td>RENT</td>\n",
       "      <td>munster</td>\n",
       "    </tr>\n",
       "    <tr>\n",
       "      <th>1069639</th>\n",
       "      <td>debt_consolidation</td>\n",
       "      <td>RENT</td>\n",
       "      <td>leinster</td>\n",
       "    </tr>\n",
       "    <tr>\n",
       "      <th>1072053</th>\n",
       "      <td>car</td>\n",
       "      <td>RENT</td>\n",
       "      <td>ulster</td>\n",
       "    </tr>\n",
       "  </tbody>\n",
       "</table>\n",
       "</div>"
      ],
      "text/plain": [
       "                    purpose home_ownership    region\n",
       "id                                                  \n",
       "1077430                 car           RENT  leinster\n",
       "1077175      small_business           RENT  cannught\n",
       "1076863               other           RENT    ulster\n",
       "1075358               other           RENT    ulster\n",
       "1075269             wedding           RENT   munster\n",
       "1069639  debt_consolidation           RENT  leinster\n",
       "1072053                 car           RENT    ulster"
      ]
     },
     "execution_count": 56,
     "metadata": {},
     "output_type": "execute_result"
    }
   ],
   "source": [
    "df[['purpose', 'home_ownership', 'region']].head(7)"
   ]
  },
  {
   "cell_type": "code",
   "execution_count": 60,
   "id": "ba18122c-cbf9-4030-83f4-ec4d8f4f7a2e",
   "metadata": {},
   "outputs": [
    {
     "data": {
      "text/html": [
       "<div>\n",
       "<style scoped>\n",
       "    .dataframe tbody tr th:only-of-type {\n",
       "        vertical-align: middle;\n",
       "    }\n",
       "\n",
       "    .dataframe tbody tr th {\n",
       "        vertical-align: top;\n",
       "    }\n",
       "\n",
       "    .dataframe thead th {\n",
       "        text-align: right;\n",
       "    }\n",
       "</style>\n",
       "<table border=\"1\" class=\"dataframe\">\n",
       "  <thead>\n",
       "    <tr style=\"text-align: right;\">\n",
       "      <th></th>\n",
       "      <th>purpose</th>\n",
       "      <th>home_ownership</th>\n",
       "      <th>region</th>\n",
       "    </tr>\n",
       "    <tr>\n",
       "      <th>id</th>\n",
       "      <th></th>\n",
       "      <th></th>\n",
       "      <th></th>\n",
       "    </tr>\n",
       "  </thead>\n",
       "  <tbody>\n",
       "    <tr>\n",
       "      <th>1077430</th>\n",
       "      <td>car</td>\n",
       "      <td>RENT</td>\n",
       "      <td>leinster</td>\n",
       "    </tr>\n",
       "    <tr>\n",
       "      <th>1077175</th>\n",
       "      <td>small_business</td>\n",
       "      <td>RENT</td>\n",
       "      <td>cannught</td>\n",
       "    </tr>\n",
       "    <tr>\n",
       "      <th>1076863</th>\n",
       "      <td>other</td>\n",
       "      <td>RENT</td>\n",
       "      <td>ulster</td>\n",
       "    </tr>\n",
       "  </tbody>\n",
       "</table>\n",
       "</div>"
      ],
      "text/plain": [
       "                purpose home_ownership    region\n",
       "id                                              \n",
       "1077430             car           RENT  leinster\n",
       "1077175  small_business           RENT  cannught\n",
       "1076863           other           RENT    ulster"
      ]
     },
     "execution_count": 60,
     "metadata": {},
     "output_type": "execute_result"
    }
   ],
   "source": [
    "sel = ['purpose', 'home_ownership', 'region']\n",
    "df[sel].head(3)"
   ]
  },
  {
   "cell_type": "code",
   "execution_count": 62,
   "id": "86ebb9e7-0233-41c1-8b97-00cc8c966296",
   "metadata": {},
   "outputs": [
    {
     "data": {
      "text/html": [
       "<div>\n",
       "<style scoped>\n",
       "    .dataframe tbody tr th:only-of-type {\n",
       "        vertical-align: middle;\n",
       "    }\n",
       "\n",
       "    .dataframe tbody tr th {\n",
       "        vertical-align: top;\n",
       "    }\n",
       "\n",
       "    .dataframe thead th {\n",
       "        text-align: right;\n",
       "    }\n",
       "</style>\n",
       "<table border=\"1\" class=\"dataframe\">\n",
       "  <thead>\n",
       "    <tr style=\"text-align: right;\">\n",
       "      <th></th>\n",
       "      <th>year</th>\n",
       "      <th>issue_d</th>\n",
       "      <th>emp_length_int</th>\n",
       "      <th>home_ownership_cat</th>\n",
       "      <th>annual_inc</th>\n",
       "      <th>income_cat</th>\n",
       "      <th>loan_amount</th>\n",
       "      <th>term_cat</th>\n",
       "      <th>purpose_cat</th>\n",
       "      <th>interest_payment_cat</th>\n",
       "      <th>loan_condition_cat</th>\n",
       "      <th>interest_rate</th>\n",
       "      <th>grade_cat</th>\n",
       "      <th>debt_to_income</th>\n",
       "      <th>total_pymnt</th>\n",
       "      <th>received_principle</th>\n",
       "      <th>recoveries</th>\n",
       "      <th>installment</th>\n",
       "    </tr>\n",
       "    <tr>\n",
       "      <th>id</th>\n",
       "      <th></th>\n",
       "      <th></th>\n",
       "      <th></th>\n",
       "      <th></th>\n",
       "      <th></th>\n",
       "      <th></th>\n",
       "      <th></th>\n",
       "      <th></th>\n",
       "      <th></th>\n",
       "      <th></th>\n",
       "      <th></th>\n",
       "      <th></th>\n",
       "      <th></th>\n",
       "      <th></th>\n",
       "      <th></th>\n",
       "      <th></th>\n",
       "      <th></th>\n",
       "      <th></th>\n",
       "    </tr>\n",
       "  </thead>\n",
       "  <tbody>\n",
       "    <tr>\n",
       "      <th>1077430</th>\n",
       "      <td>2011</td>\n",
       "      <td>2011-01-12</td>\n",
       "      <td>0.5</td>\n",
       "      <td>1</td>\n",
       "      <td>30000</td>\n",
       "      <td>1</td>\n",
       "      <td>2500</td>\n",
       "      <td>2</td>\n",
       "      <td>2</td>\n",
       "      <td>2</td>\n",
       "      <td>1</td>\n",
       "      <td>15.27</td>\n",
       "      <td>3</td>\n",
       "      <td>1.00</td>\n",
       "      <td>1008.710000</td>\n",
       "      <td>456.46</td>\n",
       "      <td>117.08</td>\n",
       "      <td>59.83</td>\n",
       "    </tr>\n",
       "    <tr>\n",
       "      <th>1077175</th>\n",
       "      <td>2011</td>\n",
       "      <td>2011-01-12</td>\n",
       "      <td>10.0</td>\n",
       "      <td>1</td>\n",
       "      <td>12252</td>\n",
       "      <td>1</td>\n",
       "      <td>2400</td>\n",
       "      <td>1</td>\n",
       "      <td>3</td>\n",
       "      <td>2</td>\n",
       "      <td>0</td>\n",
       "      <td>15.96</td>\n",
       "      <td>3</td>\n",
       "      <td>8.72</td>\n",
       "      <td>3003.653644</td>\n",
       "      <td>2400.00</td>\n",
       "      <td>0.00</td>\n",
       "      <td>84.33</td>\n",
       "    </tr>\n",
       "    <tr>\n",
       "      <th>1076863</th>\n",
       "      <td>2011</td>\n",
       "      <td>2011-01-12</td>\n",
       "      <td>10.0</td>\n",
       "      <td>1</td>\n",
       "      <td>49200</td>\n",
       "      <td>1</td>\n",
       "      <td>10000</td>\n",
       "      <td>1</td>\n",
       "      <td>4</td>\n",
       "      <td>2</td>\n",
       "      <td>0</td>\n",
       "      <td>13.49</td>\n",
       "      <td>3</td>\n",
       "      <td>20.00</td>\n",
       "      <td>12226.302210</td>\n",
       "      <td>10000.00</td>\n",
       "      <td>0.00</td>\n",
       "      <td>339.31</td>\n",
       "    </tr>\n",
       "  </tbody>\n",
       "</table>\n",
       "</div>"
      ],
      "text/plain": [
       "         year    issue_d  emp_length_int  home_ownership_cat  annual_inc  \\\n",
       "id                                                                         \n",
       "1077430  2011 2011-01-12             0.5                   1       30000   \n",
       "1077175  2011 2011-01-12            10.0                   1       12252   \n",
       "1076863  2011 2011-01-12            10.0                   1       49200   \n",
       "\n",
       "         income_cat  loan_amount  term_cat  purpose_cat  interest_payment_cat  \\\n",
       "id                                                                              \n",
       "1077430           1         2500         2            2                     2   \n",
       "1077175           1         2400         1            3                     2   \n",
       "1076863           1        10000         1            4                     2   \n",
       "\n",
       "         loan_condition_cat  interest_rate  grade_cat  debt_to_income  \\\n",
       "id                                                                      \n",
       "1077430                   1          15.27          3            1.00   \n",
       "1077175                   0          15.96          3            8.72   \n",
       "1076863                   0          13.49          3           20.00   \n",
       "\n",
       "          total_pymnt  received_principle  recoveries  installment  \n",
       "id                                                                  \n",
       "1077430   1008.710000              456.46      117.08        59.83  \n",
       "1077175   3003.653644             2400.00        0.00        84.33  \n",
       "1076863  12226.302210            10000.00        0.00       339.31  "
      ]
     },
     "execution_count": 62,
     "metadata": {},
     "output_type": "execute_result"
    }
   ],
   "source": [
    "df.select_dtypes(exclude=['object']).head(3)"
   ]
  },
  {
   "cell_type": "markdown",
   "id": "babf449e-5fff-4ad5-8661-2eae5ed69483",
   "metadata": {},
   "source": [
    "### Slicing and Indexing with Pandas"
   ]
  },
  {
   "cell_type": "code",
   "execution_count": 53,
   "id": "89743a9f-9630-4886-918d-aacc43ddfb14",
   "metadata": {},
   "outputs": [
    {
     "data": {
      "text/plain": [
       "887378"
      ]
     },
     "execution_count": 53,
     "metadata": {},
     "output_type": "execute_result"
    }
   ],
   "source": [
    "df.shape[0]"
   ]
  },
  {
   "cell_type": "markdown",
   "id": "07383637-b829-432b-96b2-c693f34d3330",
   "metadata": {},
   "source": [
    "When you use a square bracket (`[]`) to perform indexing or slicing, if you pass in a range (`[:5]` or `[8:10]`) this will considered slicing and performed on the row level. \n",
    "\n",
    "If you pass in a single value, it's going to be performed on the column level\n",
    "\n",
    "To select a column:\n",
    "- `x['debt_consolidated']` or `x[['debt_consolidated', 'bto', 'cpf_portion']]`\n",
    "\n",
    "```\n",
    "features = ['debt_consolidated', 'bto', 'cpf_portion']\n",
    "data[features].head()\n",
    "```"
   ]
  },
  {
   "cell_type": "code",
   "execution_count": 65,
   "id": "ce4b98b5-ce4e-4d36-b294-2eb58fa4b9c8",
   "metadata": {},
   "outputs": [
    {
     "data": {
      "text/plain": [
       "id\n",
       "1077430     1.00\n",
       "1077175     8.72\n",
       "1076863    20.00\n",
       "1075358    17.94\n",
       "1075269    11.20\n",
       "Name: debt_to_income, dtype: float64"
      ]
     },
     "execution_count": 65,
     "metadata": {},
     "output_type": "execute_result"
    }
   ],
   "source": [
    "df['debt_to_income'].head()"
   ]
  },
  {
   "cell_type": "code",
   "execution_count": null,
   "id": "8ea32a3a-5a7e-4935-b042-fa9de5b2d2d1",
   "metadata": {},
   "outputs": [],
   "source": []
  }
 ],
 "metadata": {
  "kernelspec": {
   "display_name": "dbs",
   "language": "python",
   "name": "dbs"
  },
  "language_info": {
   "codemirror_mode": {
    "name": "ipython",
    "version": 3
   },
   "file_extension": ".py",
   "mimetype": "text/x-python",
   "name": "python",
   "nbconvert_exporter": "python",
   "pygments_lexer": "ipython3",
   "version": "3.9.1"
  }
 },
 "nbformat": 4,
 "nbformat_minor": 5
}
