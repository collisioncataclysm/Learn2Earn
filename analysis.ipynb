{
 "cells": [
  {
   "cell_type": "code",
   "execution_count": 36,
   "id": "93f0017f-bd25-4bdd-9aa8-4c4fe6118cf7",
   "metadata": {},
   "outputs": [],
   "source": [
    "import pandas as pd"
   ]
  },
  {
   "cell_type": "code",
   "execution_count": 52,
   "id": "1d863a5d-3ee9-4a15-a242-6a2c2826a4f7",
   "metadata": {
    "tags": []
   },
   "outputs": [
    {
     "name": "stdout",
     "output_type": "stream",
     "text": [
      "{'name': ['NTUC Income', 'GIC'], 'since': [Timestamp('1997-03-14 00:00:00'), Timestamp('2003-01-20 00:00:00')], 'signatories': [3, 6], 'industry': ['Financial', 'Sovereign'], 'requireKYC': [True, False], 'aum': [41.9, 488]}\n"
     ]
    }
   ],
   "source": [
    "customers = {\n",
    "    'name': ['NTUC Income', 'GIC'],\n",
    "    'since': [pd.Timestamp('19970314'), pd.Timestamp('20030120')],\n",
    "    'signatories': [3, 6],\n",
    "    'industry': ['Financial', 'Sovereign'],\n",
    "    'requireKYC': [True, False],\n",
    "    'aum': [41.9, 488]\n",
    "}\n",
    "\n",
    "print(customers)"
   ]
  },
  {
   "cell_type": "code",
   "execution_count": 14,
   "id": "6becb60c-4cc8-45bc-87b9-6ba7ddd88eae",
   "metadata": {
    "collapsed": true,
    "jupyter": {
     "outputs_hidden": true
    },
    "tags": []
   },
   "outputs": [
    {
     "data": {
      "text/plain": [
       "['Financial', 'Sovereign']"
      ]
     },
     "execution_count": 14,
     "metadata": {},
     "output_type": "execute_result"
    }
   ],
   "source": [
    "customers['industry']"
   ]
  },
  {
   "cell_type": "code",
   "execution_count": 18,
   "id": "71d47110-b36b-4ac1-bd50-189bdc944a54",
   "metadata": {
    "tags": []
   },
   "outputs": [
    {
     "name": "stdout",
     "output_type": "stream",
     "text": [
      "Found it!\n"
     ]
    }
   ],
   "source": [
    "## how do you check in a key is in the `customers`  dictionary?\n",
    "## for example: check if 'account manager' is a valid key in that dictionary?\n",
    "if 'aum' in customers:\n",
    "    print('Found it!')"
   ]
  },
  {
   "cell_type": "code",
   "execution_count": 55,
   "id": "b3eeaa72-d5c4-48e2-84d5-2fc47f338afc",
   "metadata": {},
   "outputs": [
    {
     "name": "stdout",
     "output_type": "stream",
     "text": [
      "          name      since  signatories   industry  requireKYC    aum\n",
      "0  NTUC Income 1997-03-14            3  Financial        True   41.9\n",
      "1          GIC 2003-01-20            6  Sovereign       False  488.0\n"
     ]
    }
   ],
   "source": [
    "customerdf = pd.DataFrame(customers)\n",
    "print(customerdf)"
   ]
  },
  {
   "cell_type": "code",
   "execution_count": 23,
   "id": "96a61a36-93f5-41c5-a161-9edb988572e7",
   "metadata": {},
   "outputs": [],
   "source": [
    "customerdf['industry'] = customerdf['industry'].astype('category')"
   ]
  },
  {
   "cell_type": "markdown",
   "id": "1792ddf3-0e4b-475b-be1c-2ce58521feb1",
   "metadata": {},
   "source": [
    "- `dtype` (singular form) works on one column and return the data type of that column.\n",
    "- `dtypes`(plural) works on a dataframe and return the data types of all columns in that df"
   ]
  },
  {
   "cell_type": "code",
   "execution_count": 25,
   "id": "03b0f41c-a616-4772-b52c-bc3df77da0df",
   "metadata": {},
   "outputs": [
    {
     "data": {
      "text/plain": [
       "CategoricalDtype(categories=['Financial', 'Sovereign'], ordered=False)"
      ]
     },
     "execution_count": 25,
     "metadata": {},
     "output_type": "execute_result"
    }
   ],
   "source": [
    "customerdf['industry'].dtype"
   ]
  },
  {
   "cell_type": "code",
   "execution_count": 24,
   "id": "cb8e4b96-6772-458b-aaf3-20d553e14cfa",
   "metadata": {},
   "outputs": [
    {
     "name": "stdout",
     "output_type": "stream",
     "text": [
      "name                   object\n",
      "since          datetime64[ns]\n",
      "signatories             int64\n",
      "industry             category\n",
      "requireKYC               bool\n",
      "aum                   float64\n",
      "dtype: object\n"
     ]
    }
   ],
   "source": [
    "# check the data types of your `customers` dataframe\n",
    "print(customerdf.dtypes)"
   ]
  },
  {
   "cell_type": "code",
   "execution_count": 38,
   "id": "842cc6a8-5675-4904-89cb-36b824fcfb6c",
   "metadata": {},
   "outputs": [
    {
     "data": {
      "text/plain": [
       "name           2\n",
       "since          2\n",
       "signatories    2\n",
       "industry       2\n",
       "requireKYC     2\n",
       "aum            2\n",
       "dtype: int64"
      ]
     },
     "execution_count": 38,
     "metadata": {},
     "output_type": "execute_result"
    }
   ],
   "source": [
    "customerdf.count()"
   ]
  },
  {
   "cell_type": "code",
   "execution_count": 41,
   "id": "e58dac3b-5406-4e9b-b6f3-47fc8f78338f",
   "metadata": {},
   "outputs": [
    {
     "name": "stdout",
     "output_type": "stream",
     "text": [
      "2\n",
      "6\n"
     ]
    }
   ],
   "source": [
    "print(len(customerdf.index))\n",
    "print(len(customerdf.columns))"
   ]
  },
  {
   "cell_type": "code",
   "execution_count": 33,
   "id": "4429c9fd-1a85-4326-90f6-b3cf9d189fe2",
   "metadata": {},
   "outputs": [
    {
     "name": "stdout",
     "output_type": "stream",
     "text": [
      "We have 2 customers in our database\n"
     ]
    }
   ],
   "source": [
    "# use the f-string method on customerdf, print: 'We have 2 customers in our database'\n",
    "print(f'We have {customerdf.shape[0]} customers in our database')"
   ]
  },
  {
   "cell_type": "code",
   "execution_count": 45,
   "id": "87046680-66b7-4669-b8e4-2feb3a5076cd",
   "metadata": {},
   "outputs": [
    {
     "data": {
      "text/plain": [
       "Index(['name', 'since', 'signatories', 'industry', 'requireKYC', 'aum'], dtype='object')"
      ]
     },
     "execution_count": 45,
     "metadata": {},
     "output_type": "execute_result"
    }
   ],
   "source": [
    "customerdf.columns"
   ]
  },
  {
   "cell_type": "code",
   "execution_count": 44,
   "id": "47ce4bad-b207-42a2-8951-808ea99fdd09",
   "metadata": {
    "tags": []
   },
   "outputs": [
    {
     "data": {
      "text/html": [
       "<div>\n",
       "<style scoped>\n",
       "    .dataframe tbody tr th:only-of-type {\n",
       "        vertical-align: middle;\n",
       "    }\n",
       "\n",
       "    .dataframe tbody tr th {\n",
       "        vertical-align: top;\n",
       "    }\n",
       "\n",
       "    .dataframe thead th {\n",
       "        text-align: right;\n",
       "    }\n",
       "</style>\n",
       "<table border=\"1\" class=\"dataframe\">\n",
       "  <thead>\n",
       "    <tr style=\"text-align: right;\">\n",
       "      <th></th>\n",
       "      <th>signatories</th>\n",
       "      <th>aum</th>\n",
       "    </tr>\n",
       "  </thead>\n",
       "  <tbody>\n",
       "    <tr>\n",
       "      <th>count</th>\n",
       "      <td>2.00000</td>\n",
       "      <td>2.000000</td>\n",
       "    </tr>\n",
       "    <tr>\n",
       "      <th>mean</th>\n",
       "      <td>4.50000</td>\n",
       "      <td>264.950000</td>\n",
       "    </tr>\n",
       "    <tr>\n",
       "      <th>std</th>\n",
       "      <td>2.12132</td>\n",
       "      <td>315.440335</td>\n",
       "    </tr>\n",
       "    <tr>\n",
       "      <th>min</th>\n",
       "      <td>3.00000</td>\n",
       "      <td>41.900000</td>\n",
       "    </tr>\n",
       "    <tr>\n",
       "      <th>25%</th>\n",
       "      <td>3.75000</td>\n",
       "      <td>153.425000</td>\n",
       "    </tr>\n",
       "    <tr>\n",
       "      <th>50%</th>\n",
       "      <td>4.50000</td>\n",
       "      <td>264.950000</td>\n",
       "    </tr>\n",
       "    <tr>\n",
       "      <th>75%</th>\n",
       "      <td>5.25000</td>\n",
       "      <td>376.475000</td>\n",
       "    </tr>\n",
       "    <tr>\n",
       "      <th>max</th>\n",
       "      <td>6.00000</td>\n",
       "      <td>488.000000</td>\n",
       "    </tr>\n",
       "  </tbody>\n",
       "</table>\n",
       "</div>"
      ],
      "text/plain": [
       "       signatories         aum\n",
       "count      2.00000    2.000000\n",
       "mean       4.50000  264.950000\n",
       "std        2.12132  315.440335\n",
       "min        3.00000   41.900000\n",
       "25%        3.75000  153.425000\n",
       "50%        4.50000  264.950000\n",
       "75%        5.25000  376.475000\n",
       "max        6.00000  488.000000"
      ]
     },
     "execution_count": 44,
     "metadata": {},
     "output_type": "execute_result"
    }
   ],
   "source": [
    "# .describe() looks at all NUMERIC columns in the dataframe, and give you the summary statistics\n",
    "customerdf.describe()"
   ]
  },
  {
   "cell_type": "code",
   "execution_count": 32,
   "id": "cb003012-b3e6-4625-9a29-945efc77edc2",
   "metadata": {},
   "outputs": [
    {
     "name": "stdout",
     "output_type": "stream",
     "text": [
      "(2, 6)\n",
      "12\n",
      "12\n"
     ]
    }
   ],
   "source": [
    "# no computation is performed (a big giveaway is there is no method call)\n",
    "print(customerdf.shape)\n",
    "print(customerdf.shape[0] * customerdf.shape[1])\n",
    "print(customerdf.size)"
   ]
  },
  {
   "cell_type": "markdown",
   "id": "cfc7c483-7ff9-4032-94b6-204e9405dc55",
   "metadata": {},
   "source": [
    "#### Side Note: Where is `[]` and `()` being used in Python?\n",
    "\n",
    "1. `[]` is used in indexing: `customers[:3]`, `customers['industry'][0]`\n",
    "2. To create a list, we use `[]`: `balances = [0, 300, 29.9]`\n",
    "3. `()` is used in method calls: `dbs.checkBalance()`, `dbs.addAccount()`\n",
    "4. To create a tuple, we use `()`: `balances = (400, 10, 0)`"
   ]
  },
  {
   "cell_type": "markdown",
   "id": "30c84357-caa2-4de0-a3d2-67134788bafb",
   "metadata": {},
   "source": [
    "#### Side Note: Common exploratory operations on dataframes\n",
    "\n",
    "```\n",
    "creditscore = pd.read_csv(\"data_input/creditscore21.csv\")\n",
    "\n",
    "# inspect the first or last n rows of data\n",
    "creditscore.head(3)\n",
    "creditscore.tail(3)\n",
    "\n",
    "# inspect the shape / structure of the data\n",
    "creditscore.shape[0]\n",
    "creditscore.size\n",
    "\n",
    "# use .describe() to get a general sense of the distribution in our data\n",
    "creditscore['loan_amount'].describe()\n",
    "creditscore.describe()\n",
    "\n",
    "# use .dtype (one column) and .dtypes (the entire df) to inspect the data types\n",
    "creditscore.dtypes\n",
    "creditscore['loan_duration'].dtype\n",
    "\n",
    "# show all features in the dataframe\n",
    "creditscore.columns\n",
    "creditscore.index\n",
    "'branchnumber' in creditscore.columns\n",
    "\n",
    "# create a DataFrame out of a python dictionary\n",
    "pd.DataFrame(our_dict)\n",
    "\n",
    "# using pd.Timestamp() to create datetime columns\n",
    "pd.Timestamp('20200328')\n",
    "\n",
    "# perform simple type conversion using `.astype('int')`\n",
    "creditscore['education_level'].astype('category')\n",
    "\n",
    "# pd.read_csv to read in csv\n",
    "aum = pd.read_csv(\n",
    "        \"asset_under_management.csv\",\n",
    "        index_col=\"asset\",\n",
    "        parse_dates=[\"acquisition_date\", \"last_updated\", \"record_date\"]\n",
    ")\n",
    "\n",
    "# Using select dtypes to include or exclude specific columns based on types\n",
    "aum.select_dtypes(exclude=['object'])\n",
    "\n",
    "# Method chaining\n",
    "pd.read_csv(\"asset_under_management.csv\").select_dtypes(include=['int', 'float']).describe().head()\n",
    "```"
   ]
  },
  {
   "cell_type": "markdown",
   "id": "170bef5f-f809-4e99-a649-0836b0ffd21c",
   "metadata": {},
   "source": [
    "## Working with Loans"
   ]
  },
  {
   "cell_type": "code",
   "execution_count": 60,
   "id": "8756dab0-8908-41bc-b331-38bbd636a9e6",
   "metadata": {},
   "outputs": [
    {
     "name": "stdout",
     "output_type": "stream",
     "text": [
      "(887379, 29)\n"
     ]
    }
   ],
   "source": [
    "loans = pd.read_csv(\n",
    "    \"https://media.githubusercontent.com/media/onlyphantom/python4bankers/main/data_input/loan_new.csv\",\n",
    "    index_col='id',\n",
    "    parse_dates=['issue_d']\n",
    ")\n",
    "print(loans.shape)"
   ]
  },
  {
   "cell_type": "code",
   "execution_count": 61,
   "id": "f83e7534-1aca-4fee-959e-f01b30c5f2f6",
   "metadata": {},
   "outputs": [],
   "source": [
    "df = loans.copy()"
   ]
  },
  {
   "cell_type": "code",
   "execution_count": 71,
   "id": "0a968912-2c78-4833-84f6-96167d182e6b",
   "metadata": {},
   "outputs": [
    {
     "data": {
      "text/html": [
       "<div>\n",
       "<style scoped>\n",
       "    .dataframe tbody tr th:only-of-type {\n",
       "        vertical-align: middle;\n",
       "    }\n",
       "\n",
       "    .dataframe tbody tr th {\n",
       "        vertical-align: top;\n",
       "    }\n",
       "\n",
       "    .dataframe thead th {\n",
       "        text-align: right;\n",
       "    }\n",
       "</style>\n",
       "<table border=\"1\" class=\"dataframe\">\n",
       "  <thead>\n",
       "    <tr style=\"text-align: right;\">\n",
       "      <th></th>\n",
       "      <th>year</th>\n",
       "      <th>issue_d</th>\n",
       "      <th>final_d</th>\n",
       "      <th>emp_length_int</th>\n",
       "      <th>home_ownership</th>\n",
       "      <th>home_ownership_cat</th>\n",
       "      <th>income_category</th>\n",
       "      <th>annual_inc</th>\n",
       "      <th>income_cat</th>\n",
       "      <th>loan_amount</th>\n",
       "      <th>...</th>\n",
       "      <th>loan_condition_cat</th>\n",
       "      <th>interest_rate</th>\n",
       "      <th>grade</th>\n",
       "      <th>grade_cat</th>\n",
       "      <th>dti</th>\n",
       "      <th>total_pymnt</th>\n",
       "      <th>total_rec_prncp</th>\n",
       "      <th>recoveries</th>\n",
       "      <th>installment</th>\n",
       "      <th>region</th>\n",
       "    </tr>\n",
       "    <tr>\n",
       "      <th>id</th>\n",
       "      <th></th>\n",
       "      <th></th>\n",
       "      <th></th>\n",
       "      <th></th>\n",
       "      <th></th>\n",
       "      <th></th>\n",
       "      <th></th>\n",
       "      <th></th>\n",
       "      <th></th>\n",
       "      <th></th>\n",
       "      <th></th>\n",
       "      <th></th>\n",
       "      <th></th>\n",
       "      <th></th>\n",
       "      <th></th>\n",
       "      <th></th>\n",
       "      <th></th>\n",
       "      <th></th>\n",
       "      <th></th>\n",
       "      <th></th>\n",
       "      <th></th>\n",
       "    </tr>\n",
       "  </thead>\n",
       "  <tbody>\n",
       "    <tr>\n",
       "      <th>36490806</th>\n",
       "      <td>2015</td>\n",
       "      <td>2015-01-01</td>\n",
       "      <td>1012016</td>\n",
       "      <td>1.0</td>\n",
       "      <td>RENT</td>\n",
       "      <td>1</td>\n",
       "      <td>Low</td>\n",
       "      <td>64400</td>\n",
       "      <td>1</td>\n",
       "      <td>12000</td>\n",
       "      <td>...</td>\n",
       "      <td>0</td>\n",
       "      <td>19.99</td>\n",
       "      <td>E</td>\n",
       "      <td>5</td>\n",
       "      <td>27.19</td>\n",
       "      <td>3787.67</td>\n",
       "      <td>1552.69</td>\n",
       "      <td>0.0</td>\n",
       "      <td>317.86</td>\n",
       "      <td>Northern-Irl</td>\n",
       "    </tr>\n",
       "    <tr>\n",
       "      <th>36271262</th>\n",
       "      <td>2015</td>\n",
       "      <td>2015-01-01</td>\n",
       "      <td>1012016</td>\n",
       "      <td>10.0</td>\n",
       "      <td>RENT</td>\n",
       "      <td>1</td>\n",
       "      <td>Low</td>\n",
       "      <td>100000</td>\n",
       "      <td>1</td>\n",
       "      <td>20000</td>\n",
       "      <td>...</td>\n",
       "      <td>0</td>\n",
       "      <td>11.99</td>\n",
       "      <td>B</td>\n",
       "      <td>2</td>\n",
       "      <td>10.83</td>\n",
       "      <td>7943.76</td>\n",
       "      <td>5889.06</td>\n",
       "      <td>0.0</td>\n",
       "      <td>664.20</td>\n",
       "      <td>leinster</td>\n",
       "    </tr>\n",
       "  </tbody>\n",
       "</table>\n",
       "<p>2 rows × 29 columns</p>\n",
       "</div>"
      ],
      "text/plain": [
       "          year    issue_d  final_d  emp_length_int home_ownership  \\\n",
       "id                                                                  \n",
       "36490806  2015 2015-01-01  1012016             1.0           RENT   \n",
       "36271262  2015 2015-01-01  1012016            10.0           RENT   \n",
       "\n",
       "          home_ownership_cat income_category  annual_inc  income_cat  \\\n",
       "id                                                                     \n",
       "36490806                   1             Low       64400           1   \n",
       "36271262                   1             Low      100000           1   \n",
       "\n",
       "          loan_amount  ... loan_condition_cat  interest_rate grade  grade_cat  \\\n",
       "id                     ...                                                      \n",
       "36490806        12000  ...                  0          19.99     E          5   \n",
       "36271262        20000  ...                  0          11.99     B          2   \n",
       "\n",
       "            dti  total_pymnt total_rec_prncp  recoveries installment  \\\n",
       "id                                                                     \n",
       "36490806  27.19      3787.67         1552.69         0.0      317.86   \n",
       "36271262  10.83      7943.76         5889.06         0.0      664.20   \n",
       "\n",
       "                region  \n",
       "id                      \n",
       "36490806  Northern-Irl  \n",
       "36271262      leinster  \n",
       "\n",
       "[2 rows x 29 columns]"
      ]
     },
     "execution_count": 71,
     "metadata": {},
     "output_type": "execute_result"
    }
   ],
   "source": [
    "# print the last 2 rows of the dataframe\n",
    "loans.tail(2)"
   ]
  },
  {
   "cell_type": "code",
   "execution_count": 73,
   "id": "88d1889b-167d-4643-9b3d-fb4b33bf0fda",
   "metadata": {},
   "outputs": [
    {
     "data": {
      "text/html": [
       "<div>\n",
       "<style scoped>\n",
       "    .dataframe tbody tr th:only-of-type {\n",
       "        vertical-align: middle;\n",
       "    }\n",
       "\n",
       "    .dataframe tbody tr th {\n",
       "        vertical-align: top;\n",
       "    }\n",
       "\n",
       "    .dataframe thead th {\n",
       "        text-align: right;\n",
       "    }\n",
       "</style>\n",
       "<table border=\"1\" class=\"dataframe\">\n",
       "  <thead>\n",
       "    <tr style=\"text-align: right;\">\n",
       "      <th></th>\n",
       "      <th>year</th>\n",
       "      <th>final_d</th>\n",
       "      <th>emp_length_int</th>\n",
       "      <th>home_ownership_cat</th>\n",
       "      <th>annual_inc</th>\n",
       "      <th>income_cat</th>\n",
       "      <th>loan_amount</th>\n",
       "      <th>term_cat</th>\n",
       "      <th>application_type_cat</th>\n",
       "      <th>purpose_cat</th>\n",
       "      <th>interest_payment_cat</th>\n",
       "      <th>loan_condition_cat</th>\n",
       "      <th>interest_rate</th>\n",
       "      <th>grade_cat</th>\n",
       "      <th>dti</th>\n",
       "      <th>total_pymnt</th>\n",
       "      <th>total_rec_prncp</th>\n",
       "      <th>recoveries</th>\n",
       "      <th>installment</th>\n",
       "    </tr>\n",
       "  </thead>\n",
       "  <tbody>\n",
       "    <tr>\n",
       "      <th>min</th>\n",
       "      <td>2011.0</td>\n",
       "      <td>1012015.00</td>\n",
       "      <td>0.50</td>\n",
       "      <td>1.0</td>\n",
       "      <td>12252.0</td>\n",
       "      <td>1.0</td>\n",
       "      <td>2400.00</td>\n",
       "      <td>1.0</td>\n",
       "      <td>1.0</td>\n",
       "      <td>1.00</td>\n",
       "      <td>1.0</td>\n",
       "      <td>0.00</td>\n",
       "      <td>7.90</td>\n",
       "      <td>1.0</td>\n",
       "      <td>1.0000</td>\n",
       "      <td>646.020000</td>\n",
       "      <td>162.020</td>\n",
       "      <td>0.00</td>\n",
       "      <td>59.8300</td>\n",
       "    </tr>\n",
       "    <tr>\n",
       "      <th>25%</th>\n",
       "      <td>2011.0</td>\n",
       "      <td>1012015.00</td>\n",
       "      <td>1.50</td>\n",
       "      <td>1.0</td>\n",
       "      <td>25500.0</td>\n",
       "      <td>1.0</td>\n",
       "      <td>3000.00</td>\n",
       "      <td>1.0</td>\n",
       "      <td>1.0</td>\n",
       "      <td>2.25</td>\n",
       "      <td>1.0</td>\n",
       "      <td>0.00</td>\n",
       "      <td>12.69</td>\n",
       "      <td>2.0</td>\n",
       "      <td>6.3425</td>\n",
       "      <td>1858.055911</td>\n",
       "      <td>1063.385</td>\n",
       "      <td>0.00</td>\n",
       "      <td>90.6050</td>\n",
       "    </tr>\n",
       "    <tr>\n",
       "      <th>50%</th>\n",
       "      <td>2011.0</td>\n",
       "      <td>1012016.00</td>\n",
       "      <td>6.00</td>\n",
       "      <td>1.0</td>\n",
       "      <td>38000.0</td>\n",
       "      <td>1.0</td>\n",
       "      <td>5000.00</td>\n",
       "      <td>1.5</td>\n",
       "      <td>1.0</td>\n",
       "      <td>3.50</td>\n",
       "      <td>2.0</td>\n",
       "      <td>0.00</td>\n",
       "      <td>14.38</td>\n",
       "      <td>3.0</td>\n",
       "      <td>14.5700</td>\n",
       "      <td>3590.157167</td>\n",
       "      <td>2700.000</td>\n",
       "      <td>0.00</td>\n",
       "      <td>136.9200</td>\n",
       "    </tr>\n",
       "    <tr>\n",
       "      <th>75%</th>\n",
       "      <td>2011.0</td>\n",
       "      <td>1042012.75</td>\n",
       "      <td>9.75</td>\n",
       "      <td>1.0</td>\n",
       "      <td>47751.0</td>\n",
       "      <td>1.0</td>\n",
       "      <td>5543.75</td>\n",
       "      <td>2.0</td>\n",
       "      <td>1.0</td>\n",
       "      <td>4.00</td>\n",
       "      <td>2.0</td>\n",
       "      <td>0.75</td>\n",
       "      <td>15.96</td>\n",
       "      <td>3.0</td>\n",
       "      <td>19.5200</td>\n",
       "      <td>5803.647999</td>\n",
       "      <td>5000.000</td>\n",
       "      <td>87.81</td>\n",
       "      <td>161.2675</td>\n",
       "    </tr>\n",
       "    <tr>\n",
       "      <th>max</th>\n",
       "      <td>2011.0</td>\n",
       "      <td>1112012.00</td>\n",
       "      <td>10.00</td>\n",
       "      <td>2.0</td>\n",
       "      <td>80000.0</td>\n",
       "      <td>1.0</td>\n",
       "      <td>10000.00</td>\n",
       "      <td>2.0</td>\n",
       "      <td>1.0</td>\n",
       "      <td>6.00</td>\n",
       "      <td>2.0</td>\n",
       "      <td>1.00</td>\n",
       "      <td>21.28</td>\n",
       "      <td>6.0</td>\n",
       "      <td>27.6500</td>\n",
       "      <td>12226.302210</td>\n",
       "      <td>10000.000</td>\n",
       "      <td>269.29</td>\n",
       "      <td>339.3100</td>\n",
       "    </tr>\n",
       "  </tbody>\n",
       "</table>\n",
       "</div>"
      ],
      "text/plain": [
       "       year     final_d  emp_length_int  home_ownership_cat  annual_inc  \\\n",
       "min  2011.0  1012015.00            0.50                 1.0     12252.0   \n",
       "25%  2011.0  1012015.00            1.50                 1.0     25500.0   \n",
       "50%  2011.0  1012016.00            6.00                 1.0     38000.0   \n",
       "75%  2011.0  1042012.75            9.75                 1.0     47751.0   \n",
       "max  2011.0  1112012.00           10.00                 2.0     80000.0   \n",
       "\n",
       "     income_cat  loan_amount  term_cat  application_type_cat  purpose_cat  \\\n",
       "min         1.0      2400.00       1.0                   1.0         1.00   \n",
       "25%         1.0      3000.00       1.0                   1.0         2.25   \n",
       "50%         1.0      5000.00       1.5                   1.0         3.50   \n",
       "75%         1.0      5543.75       2.0                   1.0         4.00   \n",
       "max         1.0     10000.00       2.0                   1.0         6.00   \n",
       "\n",
       "     interest_payment_cat  loan_condition_cat  interest_rate  grade_cat  \\\n",
       "min                   1.0                0.00           7.90        1.0   \n",
       "25%                   1.0                0.00          12.69        2.0   \n",
       "50%                   2.0                0.00          14.38        3.0   \n",
       "75%                   2.0                0.75          15.96        3.0   \n",
       "max                   2.0                1.00          21.28        6.0   \n",
       "\n",
       "         dti   total_pymnt  total_rec_prncp  recoveries  installment  \n",
       "min   1.0000    646.020000          162.020        0.00      59.8300  \n",
       "25%   6.3425   1858.055911         1063.385        0.00      90.6050  \n",
       "50%  14.5700   3590.157167         2700.000        0.00     136.9200  \n",
       "75%  19.5200   5803.647999         5000.000       87.81     161.2675  \n",
       "max  27.6500  12226.302210        10000.000      269.29     339.3100  "
      ]
     },
     "execution_count": 73,
     "metadata": {},
     "output_type": "execute_result"
    }
   ],
   "source": [
    "loans.head(10).describe().tail()"
   ]
  },
  {
   "cell_type": "code",
   "execution_count": 64,
   "id": "86b2f714-73be-4825-9c35-e105a6eb67f9",
   "metadata": {},
   "outputs": [
    {
     "data": {
      "text/html": [
       "<div>\n",
       "<style scoped>\n",
       "    .dataframe tbody tr th:only-of-type {\n",
       "        vertical-align: middle;\n",
       "    }\n",
       "\n",
       "    .dataframe tbody tr th {\n",
       "        vertical-align: top;\n",
       "    }\n",
       "\n",
       "    .dataframe thead th {\n",
       "        text-align: right;\n",
       "    }\n",
       "</style>\n",
       "<table border=\"1\" class=\"dataframe\">\n",
       "  <thead>\n",
       "    <tr style=\"text-align: right;\">\n",
       "      <th></th>\n",
       "      <th>year</th>\n",
       "      <th>final_d</th>\n",
       "      <th>emp_length_int</th>\n",
       "      <th>home_ownership_cat</th>\n",
       "      <th>annual_inc</th>\n",
       "      <th>income_cat</th>\n",
       "      <th>loan_amount</th>\n",
       "      <th>term_cat</th>\n",
       "      <th>application_type_cat</th>\n",
       "      <th>purpose_cat</th>\n",
       "      <th>interest_payment_cat</th>\n",
       "      <th>loan_condition_cat</th>\n",
       "      <th>interest_rate</th>\n",
       "      <th>grade_cat</th>\n",
       "      <th>dti</th>\n",
       "      <th>total_pymnt</th>\n",
       "      <th>total_rec_prncp</th>\n",
       "      <th>recoveries</th>\n",
       "      <th>installment</th>\n",
       "    </tr>\n",
       "  </thead>\n",
       "  <tbody>\n",
       "    <tr>\n",
       "      <th>count</th>\n",
       "      <td>887379.000000</td>\n",
       "      <td>8.873790e+05</td>\n",
       "      <td>887379.000000</td>\n",
       "      <td>887379.000000</td>\n",
       "      <td>8.873790e+05</td>\n",
       "      <td>887379.000000</td>\n",
       "      <td>887379.000000</td>\n",
       "      <td>887379.000000</td>\n",
       "      <td>887379.000000</td>\n",
       "      <td>887379.000000</td>\n",
       "      <td>887379.000000</td>\n",
       "      <td>887379.000000</td>\n",
       "      <td>887379.000000</td>\n",
       "      <td>887379.000000</td>\n",
       "      <td>887379.000000</td>\n",
       "      <td>887379.000000</td>\n",
       "      <td>887379.000000</td>\n",
       "      <td>887379.000000</td>\n",
       "      <td>887379.000000</td>\n",
       "    </tr>\n",
       "    <tr>\n",
       "      <th>mean</th>\n",
       "      <td>2014.021761</td>\n",
       "      <td>1.047089e+06</td>\n",
       "      <td>6.050564</td>\n",
       "      <td>2.099130</td>\n",
       "      <td>7.502759e+04</td>\n",
       "      <td>1.196702</td>\n",
       "      <td>14755.264605</td>\n",
       "      <td>1.300045</td>\n",
       "      <td>1.000576</td>\n",
       "      <td>4.874621</td>\n",
       "      <td>1.475629</td>\n",
       "      <td>0.075987</td>\n",
       "      <td>13.246740</td>\n",
       "      <td>2.798403</td>\n",
       "      <td>18.157039</td>\n",
       "      <td>7558.826684</td>\n",
       "      <td>5757.706424</td>\n",
       "      <td>45.919243</td>\n",
       "      <td>436.717127</td>\n",
       "    </tr>\n",
       "    <tr>\n",
       "      <th>std</th>\n",
       "      <td>1.261741</td>\n",
       "      <td>4.555149e+04</td>\n",
       "      <td>3.507405</td>\n",
       "      <td>0.944839</td>\n",
       "      <td>6.469815e+04</td>\n",
       "      <td>0.442542</td>\n",
       "      <td>8435.455601</td>\n",
       "      <td>0.458278</td>\n",
       "      <td>0.023990</td>\n",
       "      <td>2.381156</td>\n",
       "      <td>0.499406</td>\n",
       "      <td>0.264977</td>\n",
       "      <td>4.381867</td>\n",
       "      <td>1.312599</td>\n",
       "      <td>17.190626</td>\n",
       "      <td>7871.243336</td>\n",
       "      <td>6625.441046</td>\n",
       "      <td>409.693874</td>\n",
       "      <td>244.186593</td>\n",
       "    </tr>\n",
       "    <tr>\n",
       "      <th>min</th>\n",
       "      <td>2007.000000</td>\n",
       "      <td>1.012008e+06</td>\n",
       "      <td>0.500000</td>\n",
       "      <td>1.000000</td>\n",
       "      <td>0.000000e+00</td>\n",
       "      <td>1.000000</td>\n",
       "      <td>500.000000</td>\n",
       "      <td>1.000000</td>\n",
       "      <td>1.000000</td>\n",
       "      <td>1.000000</td>\n",
       "      <td>1.000000</td>\n",
       "      <td>0.000000</td>\n",
       "      <td>5.320000</td>\n",
       "      <td>1.000000</td>\n",
       "      <td>0.000000</td>\n",
       "      <td>0.000000</td>\n",
       "      <td>0.000000</td>\n",
       "      <td>0.000000</td>\n",
       "      <td>15.670000</td>\n",
       "    </tr>\n",
       "    <tr>\n",
       "      <th>25%</th>\n",
       "      <td>2013.000000</td>\n",
       "      <td>1.012016e+06</td>\n",
       "      <td>3.000000</td>\n",
       "      <td>1.000000</td>\n",
       "      <td>4.500000e+04</td>\n",
       "      <td>1.000000</td>\n",
       "      <td>8000.000000</td>\n",
       "      <td>1.000000</td>\n",
       "      <td>1.000000</td>\n",
       "      <td>3.000000</td>\n",
       "      <td>1.000000</td>\n",
       "      <td>0.000000</td>\n",
       "      <td>9.990000</td>\n",
       "      <td>2.000000</td>\n",
       "      <td>11.910000</td>\n",
       "      <td>1914.590000</td>\n",
       "      <td>1200.570000</td>\n",
       "      <td>0.000000</td>\n",
       "      <td>260.705000</td>\n",
       "    </tr>\n",
       "    <tr>\n",
       "      <th>50%</th>\n",
       "      <td>2014.000000</td>\n",
       "      <td>1.012016e+06</td>\n",
       "      <td>6.050000</td>\n",
       "      <td>3.000000</td>\n",
       "      <td>6.500000e+04</td>\n",
       "      <td>1.000000</td>\n",
       "      <td>13000.000000</td>\n",
       "      <td>1.000000</td>\n",
       "      <td>1.000000</td>\n",
       "      <td>6.000000</td>\n",
       "      <td>1.000000</td>\n",
       "      <td>0.000000</td>\n",
       "      <td>12.990000</td>\n",
       "      <td>3.000000</td>\n",
       "      <td>17.650000</td>\n",
       "      <td>4894.999117</td>\n",
       "      <td>3215.320000</td>\n",
       "      <td>0.000000</td>\n",
       "      <td>382.550000</td>\n",
       "    </tr>\n",
       "    <tr>\n",
       "      <th>75%</th>\n",
       "      <td>2015.000000</td>\n",
       "      <td>1.092015e+06</td>\n",
       "      <td>10.000000</td>\n",
       "      <td>3.000000</td>\n",
       "      <td>9.000000e+04</td>\n",
       "      <td>1.000000</td>\n",
       "      <td>20000.000000</td>\n",
       "      <td>2.000000</td>\n",
       "      <td>1.000000</td>\n",
       "      <td>6.000000</td>\n",
       "      <td>2.000000</td>\n",
       "      <td>0.000000</td>\n",
       "      <td>16.200000</td>\n",
       "      <td>4.000000</td>\n",
       "      <td>23.950000</td>\n",
       "      <td>10616.814230</td>\n",
       "      <td>8000.000000</td>\n",
       "      <td>0.000000</td>\n",
       "      <td>572.600000</td>\n",
       "    </tr>\n",
       "    <tr>\n",
       "      <th>max</th>\n",
       "      <td>2015.000000</td>\n",
       "      <td>1.122015e+06</td>\n",
       "      <td>10.000000</td>\n",
       "      <td>6.000000</td>\n",
       "      <td>9.500000e+06</td>\n",
       "      <td>3.000000</td>\n",
       "      <td>35000.000000</td>\n",
       "      <td>2.000000</td>\n",
       "      <td>2.000000</td>\n",
       "      <td>14.000000</td>\n",
       "      <td>2.000000</td>\n",
       "      <td>1.000000</td>\n",
       "      <td>28.990000</td>\n",
       "      <td>7.000000</td>\n",
       "      <td>9999.000000</td>\n",
       "      <td>57777.579870</td>\n",
       "      <td>35000.030000</td>\n",
       "      <td>33520.270000</td>\n",
       "      <td>1445.460000</td>\n",
       "    </tr>\n",
       "  </tbody>\n",
       "</table>\n",
       "</div>"
      ],
      "text/plain": [
       "                year       final_d  emp_length_int  home_ownership_cat  \\\n",
       "count  887379.000000  8.873790e+05   887379.000000       887379.000000   \n",
       "mean     2014.021761  1.047089e+06        6.050564            2.099130   \n",
       "std         1.261741  4.555149e+04        3.507405            0.944839   \n",
       "min      2007.000000  1.012008e+06        0.500000            1.000000   \n",
       "25%      2013.000000  1.012016e+06        3.000000            1.000000   \n",
       "50%      2014.000000  1.012016e+06        6.050000            3.000000   \n",
       "75%      2015.000000  1.092015e+06       10.000000            3.000000   \n",
       "max      2015.000000  1.122015e+06       10.000000            6.000000   \n",
       "\n",
       "         annual_inc     income_cat    loan_amount       term_cat  \\\n",
       "count  8.873790e+05  887379.000000  887379.000000  887379.000000   \n",
       "mean   7.502759e+04       1.196702   14755.264605       1.300045   \n",
       "std    6.469815e+04       0.442542    8435.455601       0.458278   \n",
       "min    0.000000e+00       1.000000     500.000000       1.000000   \n",
       "25%    4.500000e+04       1.000000    8000.000000       1.000000   \n",
       "50%    6.500000e+04       1.000000   13000.000000       1.000000   \n",
       "75%    9.000000e+04       1.000000   20000.000000       2.000000   \n",
       "max    9.500000e+06       3.000000   35000.000000       2.000000   \n",
       "\n",
       "       application_type_cat    purpose_cat  interest_payment_cat  \\\n",
       "count         887379.000000  887379.000000         887379.000000   \n",
       "mean               1.000576       4.874621              1.475629   \n",
       "std                0.023990       2.381156              0.499406   \n",
       "min                1.000000       1.000000              1.000000   \n",
       "25%                1.000000       3.000000              1.000000   \n",
       "50%                1.000000       6.000000              1.000000   \n",
       "75%                1.000000       6.000000              2.000000   \n",
       "max                2.000000      14.000000              2.000000   \n",
       "\n",
       "       loan_condition_cat  interest_rate      grade_cat            dti  \\\n",
       "count       887379.000000  887379.000000  887379.000000  887379.000000   \n",
       "mean             0.075987      13.246740       2.798403      18.157039   \n",
       "std              0.264977       4.381867       1.312599      17.190626   \n",
       "min              0.000000       5.320000       1.000000       0.000000   \n",
       "25%              0.000000       9.990000       2.000000      11.910000   \n",
       "50%              0.000000      12.990000       3.000000      17.650000   \n",
       "75%              0.000000      16.200000       4.000000      23.950000   \n",
       "max              1.000000      28.990000       7.000000    9999.000000   \n",
       "\n",
       "         total_pymnt  total_rec_prncp     recoveries    installment  \n",
       "count  887379.000000    887379.000000  887379.000000  887379.000000  \n",
       "mean     7558.826684      5757.706424      45.919243     436.717127  \n",
       "std      7871.243336      6625.441046     409.693874     244.186593  \n",
       "min         0.000000         0.000000       0.000000      15.670000  \n",
       "25%      1914.590000      1200.570000       0.000000     260.705000  \n",
       "50%      4894.999117      3215.320000       0.000000     382.550000  \n",
       "75%     10616.814230      8000.000000       0.000000     572.600000  \n",
       "max     57777.579870     35000.030000   33520.270000    1445.460000  "
      ]
     },
     "execution_count": 64,
     "metadata": {},
     "output_type": "execute_result"
    }
   ],
   "source": [
    "# inspect the basic statistical summary of all numeric columns in our dataframe\n",
    "x = loans.describe()\n",
    "x"
   ]
  },
  {
   "cell_type": "code",
   "execution_count": 74,
   "id": "ae8a67e2-3179-4495-b56c-c211f9c230f5",
   "metadata": {},
   "outputs": [
    {
     "data": {
      "text/plain": [
       "year                       int64\n",
       "issue_d           datetime64[ns]\n",
       "final_d                    int64\n",
       "emp_length_int           float64\n",
       "home_ownership            object\n",
       "dtype: object"
      ]
     },
     "execution_count": 74,
     "metadata": {},
     "output_type": "execute_result"
    }
   ],
   "source": [
    "# inspect the data types of your columns\n",
    "loans.dtypes.head(5)"
   ]
  },
  {
   "cell_type": "code",
   "execution_count": 77,
   "id": "a043af04-c8a9-4e16-a188-adbf0f67010c",
   "metadata": {},
   "outputs": [
    {
     "data": {
      "text/html": [
       "<div>\n",
       "<style scoped>\n",
       "    .dataframe tbody tr th:only-of-type {\n",
       "        vertical-align: middle;\n",
       "    }\n",
       "\n",
       "    .dataframe tbody tr th {\n",
       "        vertical-align: top;\n",
       "    }\n",
       "\n",
       "    .dataframe thead th {\n",
       "        text-align: right;\n",
       "    }\n",
       "</style>\n",
       "<table border=\"1\" class=\"dataframe\">\n",
       "  <thead>\n",
       "    <tr style=\"text-align: right;\">\n",
       "      <th></th>\n",
       "      <th>emp_length_int</th>\n",
       "      <th>interest_rate</th>\n",
       "      <th>dti</th>\n",
       "      <th>total_pymnt</th>\n",
       "      <th>total_rec_prncp</th>\n",
       "      <th>recoveries</th>\n",
       "      <th>installment</th>\n",
       "    </tr>\n",
       "  </thead>\n",
       "  <tbody>\n",
       "    <tr>\n",
       "      <th>count</th>\n",
       "      <td>887379.000000</td>\n",
       "      <td>887379.000000</td>\n",
       "      <td>887379.000000</td>\n",
       "      <td>887379.000000</td>\n",
       "      <td>887379.000000</td>\n",
       "      <td>887379.000000</td>\n",
       "      <td>887379.000000</td>\n",
       "    </tr>\n",
       "    <tr>\n",
       "      <th>mean</th>\n",
       "      <td>6.050564</td>\n",
       "      <td>13.246740</td>\n",
       "      <td>18.157039</td>\n",
       "      <td>7558.826684</td>\n",
       "      <td>5757.706424</td>\n",
       "      <td>45.919243</td>\n",
       "      <td>436.717127</td>\n",
       "    </tr>\n",
       "    <tr>\n",
       "      <th>std</th>\n",
       "      <td>3.507405</td>\n",
       "      <td>4.381867</td>\n",
       "      <td>17.190626</td>\n",
       "      <td>7871.243336</td>\n",
       "      <td>6625.441046</td>\n",
       "      <td>409.693874</td>\n",
       "      <td>244.186593</td>\n",
       "    </tr>\n",
       "    <tr>\n",
       "      <th>min</th>\n",
       "      <td>0.500000</td>\n",
       "      <td>5.320000</td>\n",
       "      <td>0.000000</td>\n",
       "      <td>0.000000</td>\n",
       "      <td>0.000000</td>\n",
       "      <td>0.000000</td>\n",
       "      <td>15.670000</td>\n",
       "    </tr>\n",
       "    <tr>\n",
       "      <th>25%</th>\n",
       "      <td>3.000000</td>\n",
       "      <td>9.990000</td>\n",
       "      <td>11.910000</td>\n",
       "      <td>1914.590000</td>\n",
       "      <td>1200.570000</td>\n",
       "      <td>0.000000</td>\n",
       "      <td>260.705000</td>\n",
       "    </tr>\n",
       "    <tr>\n",
       "      <th>50%</th>\n",
       "      <td>6.050000</td>\n",
       "      <td>12.990000</td>\n",
       "      <td>17.650000</td>\n",
       "      <td>4894.999117</td>\n",
       "      <td>3215.320000</td>\n",
       "      <td>0.000000</td>\n",
       "      <td>382.550000</td>\n",
       "    </tr>\n",
       "    <tr>\n",
       "      <th>75%</th>\n",
       "      <td>10.000000</td>\n",
       "      <td>16.200000</td>\n",
       "      <td>23.950000</td>\n",
       "      <td>10616.814230</td>\n",
       "      <td>8000.000000</td>\n",
       "      <td>0.000000</td>\n",
       "      <td>572.600000</td>\n",
       "    </tr>\n",
       "    <tr>\n",
       "      <th>max</th>\n",
       "      <td>10.000000</td>\n",
       "      <td>28.990000</td>\n",
       "      <td>9999.000000</td>\n",
       "      <td>57777.579870</td>\n",
       "      <td>35000.030000</td>\n",
       "      <td>33520.270000</td>\n",
       "      <td>1445.460000</td>\n",
       "    </tr>\n",
       "  </tbody>\n",
       "</table>\n",
       "</div>"
      ],
      "text/plain": [
       "       emp_length_int  interest_rate            dti    total_pymnt  \\\n",
       "count   887379.000000  887379.000000  887379.000000  887379.000000   \n",
       "mean         6.050564      13.246740      18.157039    7558.826684   \n",
       "std          3.507405       4.381867      17.190626    7871.243336   \n",
       "min          0.500000       5.320000       0.000000       0.000000   \n",
       "25%          3.000000       9.990000      11.910000    1914.590000   \n",
       "50%          6.050000      12.990000      17.650000    4894.999117   \n",
       "75%         10.000000      16.200000      23.950000   10616.814230   \n",
       "max         10.000000      28.990000    9999.000000   57777.579870   \n",
       "\n",
       "       total_rec_prncp     recoveries    installment  \n",
       "count    887379.000000  887379.000000  887379.000000  \n",
       "mean       5757.706424      45.919243     436.717127  \n",
       "std        6625.441046     409.693874     244.186593  \n",
       "min           0.000000       0.000000      15.670000  \n",
       "25%        1200.570000       0.000000     260.705000  \n",
       "50%        3215.320000       0.000000     382.550000  \n",
       "75%        8000.000000       0.000000     572.600000  \n",
       "max       35000.030000   33520.270000    1445.460000  "
      ]
     },
     "execution_count": 77,
     "metadata": {},
     "output_type": "execute_result"
    }
   ],
   "source": [
    "# get statistical summary on all float and integer\n",
    "loans.select_dtypes(include=['float']).describe()"
   ]
  },
  {
   "cell_type": "code",
   "execution_count": 78,
   "id": "27ecfb85-b1d9-4e6e-abf9-7e33b6003449",
   "metadata": {},
   "outputs": [
    {
     "data": {
      "text/html": [
       "<div>\n",
       "<style scoped>\n",
       "    .dataframe tbody tr th:only-of-type {\n",
       "        vertical-align: middle;\n",
       "    }\n",
       "\n",
       "    .dataframe tbody tr th {\n",
       "        vertical-align: top;\n",
       "    }\n",
       "\n",
       "    .dataframe thead th {\n",
       "        text-align: right;\n",
       "    }\n",
       "</style>\n",
       "<table border=\"1\" class=\"dataframe\">\n",
       "  <thead>\n",
       "    <tr style=\"text-align: right;\">\n",
       "      <th></th>\n",
       "      <th>year</th>\n",
       "      <th>issue_d</th>\n",
       "      <th>final_d</th>\n",
       "      <th>emp_length_int</th>\n",
       "      <th>home_ownership_cat</th>\n",
       "      <th>annual_inc</th>\n",
       "      <th>income_cat</th>\n",
       "      <th>loan_amount</th>\n",
       "      <th>term_cat</th>\n",
       "      <th>application_type_cat</th>\n",
       "      <th>purpose_cat</th>\n",
       "      <th>interest_payment_cat</th>\n",
       "      <th>loan_condition_cat</th>\n",
       "      <th>interest_rate</th>\n",
       "      <th>grade_cat</th>\n",
       "      <th>dti</th>\n",
       "      <th>total_pymnt</th>\n",
       "      <th>total_rec_prncp</th>\n",
       "      <th>recoveries</th>\n",
       "      <th>installment</th>\n",
       "    </tr>\n",
       "    <tr>\n",
       "      <th>id</th>\n",
       "      <th></th>\n",
       "      <th></th>\n",
       "      <th></th>\n",
       "      <th></th>\n",
       "      <th></th>\n",
       "      <th></th>\n",
       "      <th></th>\n",
       "      <th></th>\n",
       "      <th></th>\n",
       "      <th></th>\n",
       "      <th></th>\n",
       "      <th></th>\n",
       "      <th></th>\n",
       "      <th></th>\n",
       "      <th></th>\n",
       "      <th></th>\n",
       "      <th></th>\n",
       "      <th></th>\n",
       "      <th></th>\n",
       "      <th></th>\n",
       "    </tr>\n",
       "  </thead>\n",
       "  <tbody>\n",
       "    <tr>\n",
       "      <th>36271333</th>\n",
       "      <td>2015</td>\n",
       "      <td>2015-01-01</td>\n",
       "      <td>1012016</td>\n",
       "      <td>5.0</td>\n",
       "      <td>1</td>\n",
       "      <td>35000</td>\n",
       "      <td>1</td>\n",
       "      <td>13000</td>\n",
       "      <td>2</td>\n",
       "      <td>1</td>\n",
       "      <td>6</td>\n",
       "      <td>2</td>\n",
       "      <td>0</td>\n",
       "      <td>15.99</td>\n",
       "      <td>4</td>\n",
       "      <td>30.90</td>\n",
       "      <td>3769.74</td>\n",
       "      <td>1844.50</td>\n",
       "      <td>0.0</td>\n",
       "      <td>316.07</td>\n",
       "    </tr>\n",
       "    <tr>\n",
       "      <th>36490806</th>\n",
       "      <td>2015</td>\n",
       "      <td>2015-01-01</td>\n",
       "      <td>1012016</td>\n",
       "      <td>1.0</td>\n",
       "      <td>1</td>\n",
       "      <td>64400</td>\n",
       "      <td>1</td>\n",
       "      <td>12000</td>\n",
       "      <td>2</td>\n",
       "      <td>1</td>\n",
       "      <td>6</td>\n",
       "      <td>2</td>\n",
       "      <td>0</td>\n",
       "      <td>19.99</td>\n",
       "      <td>5</td>\n",
       "      <td>27.19</td>\n",
       "      <td>3787.67</td>\n",
       "      <td>1552.69</td>\n",
       "      <td>0.0</td>\n",
       "      <td>317.86</td>\n",
       "    </tr>\n",
       "    <tr>\n",
       "      <th>36271262</th>\n",
       "      <td>2015</td>\n",
       "      <td>2015-01-01</td>\n",
       "      <td>1012016</td>\n",
       "      <td>10.0</td>\n",
       "      <td>1</td>\n",
       "      <td>100000</td>\n",
       "      <td>1</td>\n",
       "      <td>20000</td>\n",
       "      <td>1</td>\n",
       "      <td>1</td>\n",
       "      <td>1</td>\n",
       "      <td>1</td>\n",
       "      <td>0</td>\n",
       "      <td>11.99</td>\n",
       "      <td>2</td>\n",
       "      <td>10.83</td>\n",
       "      <td>7943.76</td>\n",
       "      <td>5889.06</td>\n",
       "      <td>0.0</td>\n",
       "      <td>664.20</td>\n",
       "    </tr>\n",
       "  </tbody>\n",
       "</table>\n",
       "</div>"
      ],
      "text/plain": [
       "          year    issue_d  final_d  emp_length_int  home_ownership_cat  \\\n",
       "id                                                                       \n",
       "36271333  2015 2015-01-01  1012016             5.0                   1   \n",
       "36490806  2015 2015-01-01  1012016             1.0                   1   \n",
       "36271262  2015 2015-01-01  1012016            10.0                   1   \n",
       "\n",
       "          annual_inc  income_cat  loan_amount  term_cat  application_type_cat  \\\n",
       "id                                                                              \n",
       "36271333       35000           1        13000         2                     1   \n",
       "36490806       64400           1        12000         2                     1   \n",
       "36271262      100000           1        20000         1                     1   \n",
       "\n",
       "          purpose_cat  interest_payment_cat  loan_condition_cat  \\\n",
       "id                                                                \n",
       "36271333            6                     2                   0   \n",
       "36490806            6                     2                   0   \n",
       "36271262            1                     1                   0   \n",
       "\n",
       "          interest_rate  grade_cat    dti  total_pymnt  total_rec_prncp  \\\n",
       "id                                                                        \n",
       "36271333          15.99          4  30.90      3769.74          1844.50   \n",
       "36490806          19.99          5  27.19      3787.67          1552.69   \n",
       "36271262          11.99          2  10.83      7943.76          5889.06   \n",
       "\n",
       "          recoveries  installment  \n",
       "id                                 \n",
       "36271333         0.0       316.07  \n",
       "36490806         0.0       317.86  \n",
       "36271262         0.0       664.20  "
      ]
     },
     "execution_count": 78,
     "metadata": {},
     "output_type": "execute_result"
    }
   ],
   "source": [
    "loans.select_dtypes(exclude=['object']).tail(3)"
   ]
  },
  {
   "cell_type": "code",
   "execution_count": 66,
   "id": "1949dc10-e3c8-4352-b666-5e19fb4ca417",
   "metadata": {},
   "outputs": [
    {
     "data": {
      "text/plain": [
       "count    887379.000000\n",
       "mean         13.246740\n",
       "std           4.381867\n",
       "min           5.320000\n",
       "25%           9.990000\n",
       "50%          12.990000\n",
       "75%          16.200000\n",
       "max          28.990000\n",
       "Name: interest_rate, dtype: float64"
      ]
     },
     "execution_count": 66,
     "metadata": {},
     "output_type": "execute_result"
    }
   ],
   "source": [
    "x['interest_rate']"
   ]
  },
  {
   "cell_type": "code",
   "execution_count": 76,
   "id": "a595323b-eb2f-4dad-86f4-e503f10d5839",
   "metadata": {},
   "outputs": [
    {
     "data": {
      "text/html": [
       "<div>\n",
       "<style scoped>\n",
       "    .dataframe tbody tr th:only-of-type {\n",
       "        vertical-align: middle;\n",
       "    }\n",
       "\n",
       "    .dataframe tbody tr th {\n",
       "        vertical-align: top;\n",
       "    }\n",
       "\n",
       "    .dataframe thead th {\n",
       "        text-align: right;\n",
       "    }\n",
       "</style>\n",
       "<table border=\"1\" class=\"dataframe\">\n",
       "  <thead>\n",
       "    <tr style=\"text-align: right;\">\n",
       "      <th></th>\n",
       "      <th>name</th>\n",
       "      <th>since</th>\n",
       "      <th>signatories</th>\n",
       "      <th>industry</th>\n",
       "      <th>requireKYC</th>\n",
       "      <th>aum</th>\n",
       "      <th>pic</th>\n",
       "    </tr>\n",
       "  </thead>\n",
       "  <tbody>\n",
       "    <tr>\n",
       "      <th>0</th>\n",
       "      <td>NTUC Income</td>\n",
       "      <td>1997-03-14</td>\n",
       "      <td>3</td>\n",
       "      <td>Financial</td>\n",
       "      <td>True</td>\n",
       "      <td>41.9</td>\n",
       "      <td>Janette@ntucincome.com.sg</td>\n",
       "    </tr>\n",
       "    <tr>\n",
       "      <th>1</th>\n",
       "      <td>GIC</td>\n",
       "      <td>2003-01-20</td>\n",
       "      <td>6</td>\n",
       "      <td>Sovereign</td>\n",
       "      <td>False</td>\n",
       "      <td>488.0</td>\n",
       "      <td>Denise@gic.com</td>\n",
       "    </tr>\n",
       "  </tbody>\n",
       "</table>\n",
       "</div>"
      ],
      "text/plain": [
       "          name      since  signatories   industry  requireKYC    aum  \\\n",
       "0  NTUC Income 1997-03-14            3  Financial        True   41.9   \n",
       "1          GIC 2003-01-20            6  Sovereign       False  488.0   \n",
       "\n",
       "                         pic  \n",
       "0  Janette@ntucincome.com.sg  \n",
       "1             Denise@gic.com  "
      ]
     },
     "execution_count": 76,
     "metadata": {},
     "output_type": "execute_result"
    }
   ],
   "source": [
    "customers = {\n",
    "    'name': ['NTUC Income', 'GIC'],\n",
    "    'since': [pd.Timestamp('19970314'), pd.Timestamp('20030120')],\n",
    "    'signatories': [3, 6],\n",
    "    'industry': ['Financial', 'Sovereign'],\n",
    "    'requireKYC': [True, False],\n",
    "    'aum': [41.9, 488],\n",
    "    'pic': ['Janette@ntucincome.com.sg', 'Denise@gic.com']\n",
    "}\n",
    "customerdf = pd.DataFrame(customers)\n",
    "backup = customerdf.copy()\n",
    "backup"
   ]
  },
  {
   "cell_type": "code",
   "execution_count": 77,
   "id": "5d0478b1-b33c-4e7f-b4c4-41eb61825382",
   "metadata": {
    "tags": []
   },
   "outputs": [
    {
     "data": {
      "text/html": [
       "<div>\n",
       "<style scoped>\n",
       "    .dataframe tbody tr th:only-of-type {\n",
       "        vertical-align: middle;\n",
       "    }\n",
       "\n",
       "    .dataframe tbody tr th {\n",
       "        vertical-align: top;\n",
       "    }\n",
       "\n",
       "    .dataframe thead th {\n",
       "        text-align: right;\n",
       "    }\n",
       "</style>\n",
       "<table border=\"1\" class=\"dataframe\">\n",
       "  <thead>\n",
       "    <tr style=\"text-align: right;\">\n",
       "      <th></th>\n",
       "      <th>name</th>\n",
       "      <th>since</th>\n",
       "      <th>signatories</th>\n",
       "      <th>industry</th>\n",
       "      <th>requireKYC</th>\n",
       "      <th>aum</th>\n",
       "      <th>pic</th>\n",
       "    </tr>\n",
       "  </thead>\n",
       "  <tbody>\n",
       "    <tr>\n",
       "      <th>0</th>\n",
       "      <td>NTUC Income</td>\n",
       "      <td>1997-03-14</td>\n",
       "      <td>3</td>\n",
       "      <td>Financial</td>\n",
       "      <td>True</td>\n",
       "      <td>41.9</td>\n",
       "      <td>Janette@ntucincome.com.sg</td>\n",
       "    </tr>\n",
       "  </tbody>\n",
       "</table>\n",
       "</div>"
      ],
      "text/plain": [
       "          name      since  signatories   industry  requireKYC   aum  \\\n",
       "0  NTUC Income 1997-03-14            3  Financial        True  41.9   \n",
       "\n",
       "                         pic  \n",
       "0  Janette@ntucincome.com.sg  "
      ]
     },
     "execution_count": 77,
     "metadata": {},
     "output_type": "execute_result"
    }
   ],
   "source": [
    "backup = backup.drop(1)\n",
    "backup"
   ]
  },
  {
   "cell_type": "code",
   "execution_count": 85,
   "id": "e7b4a9ca-2816-4b93-860b-11259ec56410",
   "metadata": {},
   "outputs": [
    {
     "data": {
      "text/html": [
       "<div>\n",
       "<style scoped>\n",
       "    .dataframe tbody tr th:only-of-type {\n",
       "        vertical-align: middle;\n",
       "    }\n",
       "\n",
       "    .dataframe tbody tr th {\n",
       "        vertical-align: top;\n",
       "    }\n",
       "\n",
       "    .dataframe thead th {\n",
       "        text-align: right;\n",
       "    }\n",
       "</style>\n",
       "<table border=\"1\" class=\"dataframe\">\n",
       "  <thead>\n",
       "    <tr style=\"text-align: right;\">\n",
       "      <th></th>\n",
       "      <th>account</th>\n",
       "      <th>since</th>\n",
       "      <th>industry</th>\n",
       "      <th>requireKYC</th>\n",
       "      <th>aum</th>\n",
       "    </tr>\n",
       "  </thead>\n",
       "  <tbody>\n",
       "    <tr>\n",
       "      <th>0</th>\n",
       "      <td>NTUC Income</td>\n",
       "      <td>1997-03-14</td>\n",
       "      <td>Financial</td>\n",
       "      <td>True</td>\n",
       "      <td>41.9</td>\n",
       "    </tr>\n",
       "  </tbody>\n",
       "</table>\n",
       "</div>"
      ],
      "text/plain": [
       "       account      since   industry  requireKYC   aum\n",
       "0  NTUC Income 1997-03-14  Financial        True  41.9"
      ]
     },
     "execution_count": 85,
     "metadata": {},
     "output_type": "execute_result"
    }
   ],
   "source": [
    "backup = backup.drop(['pic', 'signatories'],\n",
    "                     axis=1)\n",
    "backup"
   ]
  },
  {
   "cell_type": "code",
   "execution_count": 86,
   "id": "065936c5-9277-40f4-9a0b-0086b69eafc8",
   "metadata": {},
   "outputs": [
    {
     "data": {
      "text/html": [
       "<div>\n",
       "<style scoped>\n",
       "    .dataframe tbody tr th:only-of-type {\n",
       "        vertical-align: middle;\n",
       "    }\n",
       "\n",
       "    .dataframe tbody tr th {\n",
       "        vertical-align: top;\n",
       "    }\n",
       "\n",
       "    .dataframe thead th {\n",
       "        text-align: right;\n",
       "    }\n",
       "</style>\n",
       "<table border=\"1\" class=\"dataframe\">\n",
       "  <thead>\n",
       "    <tr style=\"text-align: right;\">\n",
       "      <th></th>\n",
       "      <th>account</th>\n",
       "      <th>since</th>\n",
       "      <th>industry</th>\n",
       "      <th>requireKYC</th>\n",
       "      <th>aum</th>\n",
       "    </tr>\n",
       "  </thead>\n",
       "  <tbody>\n",
       "    <tr>\n",
       "      <th>0</th>\n",
       "      <td>NTUC Income</td>\n",
       "      <td>1997-03-14</td>\n",
       "      <td>Financial</td>\n",
       "      <td>True</td>\n",
       "      <td>41.9</td>\n",
       "    </tr>\n",
       "  </tbody>\n",
       "</table>\n",
       "</div>"
      ],
      "text/plain": [
       "       account      since   industry  requireKYC   aum\n",
       "0  NTUC Income 1997-03-14  Financial        True  41.9"
      ]
     },
     "execution_count": 86,
     "metadata": {},
     "output_type": "execute_result"
    }
   ],
   "source": [
    "backup"
   ]
  },
  {
   "cell_type": "code",
   "execution_count": 82,
   "id": "cc5b5be6-b3c3-4cad-9669-3cb9ff6d928a",
   "metadata": {},
   "outputs": [],
   "source": [
    "# rename 'name' column to 'account'\n",
    "backup = backup.rename(\n",
    "    columns={\n",
    "        \"name\": \"account\"\n",
    "    }\n",
    ")"
   ]
  },
  {
   "cell_type": "code",
   "execution_count": 84,
   "id": "9e3a7fd8-25b8-44be-9bfd-9384ec1eaefa",
   "metadata": {},
   "outputs": [
    {
     "name": "stdout",
     "output_type": "stream",
     "text": [
      "account\n",
      "Index(['account', 'since', 'signatories', 'industry', 'requireKYC', 'aum',\n",
      "       'pic'],\n",
      "      dtype='object')\n"
     ]
    }
   ],
   "source": [
    "print(backup.columns[0])\n",
    "print(backup.columns)"
   ]
  },
  {
   "cell_type": "markdown",
   "id": "27332cf5-cf7a-42bb-90c5-26d313da1e57",
   "metadata": {},
   "source": [
    "Copy, drop (rows / columns), rename, indexing and subsetting"
   ]
  },
  {
   "cell_type": "code",
   "execution_count": 50,
   "id": "45e43f6e-c693-41e1-af72-b81f934d9c35",
   "metadata": {},
   "outputs": [
    {
     "name": "stdout",
     "output_type": "stream",
     "text": [
      "4767320768\n",
      "4767250560\n",
      "4767256064\n",
      "4\n",
      "3\n",
      "[0, 2, 4]\n"
     ]
    }
   ],
   "source": [
    "x = [0, 2, 4]\n",
    "print(id(x))\n",
    "y = x.copy()\n",
    "print(id(y))\n",
    "z = [0, 2, 4]\n",
    "print(id(z))\n",
    "\n",
    "x.append(3)\n",
    "print(len(x))\n",
    "print(len(y))\n",
    "print(z)"
   ]
  },
  {
   "cell_type": "code",
   "execution_count": 56,
   "id": "23ed90f8-849a-4b65-b1d4-0c3acb160eea",
   "metadata": {},
   "outputs": [
    {
     "data": {
      "text/html": [
       "<div>\n",
       "<style scoped>\n",
       "    .dataframe tbody tr th:only-of-type {\n",
       "        vertical-align: middle;\n",
       "    }\n",
       "\n",
       "    .dataframe tbody tr th {\n",
       "        vertical-align: top;\n",
       "    }\n",
       "\n",
       "    .dataframe thead th {\n",
       "        text-align: right;\n",
       "    }\n",
       "</style>\n",
       "<table border=\"1\" class=\"dataframe\">\n",
       "  <thead>\n",
       "    <tr style=\"text-align: right;\">\n",
       "      <th></th>\n",
       "      <th>name</th>\n",
       "      <th>since</th>\n",
       "      <th>signatories</th>\n",
       "      <th>industry</th>\n",
       "      <th>requireKYC</th>\n",
       "      <th>aum</th>\n",
       "    </tr>\n",
       "  </thead>\n",
       "  <tbody>\n",
       "    <tr>\n",
       "      <th>0</th>\n",
       "      <td>NTUC Income</td>\n",
       "      <td>1997-03-14</td>\n",
       "      <td>3</td>\n",
       "      <td>Financial</td>\n",
       "      <td>True</td>\n",
       "      <td>41.9</td>\n",
       "    </tr>\n",
       "    <tr>\n",
       "      <th>1</th>\n",
       "      <td>GIC</td>\n",
       "      <td>2003-01-20</td>\n",
       "      <td>6</td>\n",
       "      <td>Sovereign</td>\n",
       "      <td>False</td>\n",
       "      <td>488.0</td>\n",
       "    </tr>\n",
       "  </tbody>\n",
       "</table>\n",
       "</div>"
      ],
      "text/plain": [
       "          name      since  signatories   industry  requireKYC    aum\n",
       "0  NTUC Income 1997-03-14            3  Financial        True   41.9\n",
       "1          GIC 2003-01-20            6  Sovereign       False  488.0"
      ]
     },
     "execution_count": 56,
     "metadata": {},
     "output_type": "execute_result"
    }
   ],
   "source": [
    "customerdf"
   ]
  },
  {
   "cell_type": "code",
   "execution_count": 57,
   "id": "299bb7d6-4cf9-41a2-b806-15a6086e2d62",
   "metadata": {},
   "outputs": [
    {
     "data": {
      "text/html": [
       "<div>\n",
       "<style scoped>\n",
       "    .dataframe tbody tr th:only-of-type {\n",
       "        vertical-align: middle;\n",
       "    }\n",
       "\n",
       "    .dataframe tbody tr th {\n",
       "        vertical-align: top;\n",
       "    }\n",
       "\n",
       "    .dataframe thead th {\n",
       "        text-align: right;\n",
       "    }\n",
       "</style>\n",
       "<table border=\"1\" class=\"dataframe\">\n",
       "  <thead>\n",
       "    <tr style=\"text-align: right;\">\n",
       "      <th></th>\n",
       "      <th>name</th>\n",
       "      <th>since</th>\n",
       "      <th>signatories</th>\n",
       "      <th>industry</th>\n",
       "      <th>requireKYC</th>\n",
       "      <th>aum</th>\n",
       "    </tr>\n",
       "  </thead>\n",
       "  <tbody>\n",
       "    <tr>\n",
       "      <th>0</th>\n",
       "      <td>NTUC Income</td>\n",
       "      <td>1997-03-14</td>\n",
       "      <td>3</td>\n",
       "      <td>Financial</td>\n",
       "      <td>True</td>\n",
       "      <td>41.9</td>\n",
       "    </tr>\n",
       "    <tr>\n",
       "      <th>1</th>\n",
       "      <td>GIC</td>\n",
       "      <td>2003-01-20</td>\n",
       "      <td>6</td>\n",
       "      <td>Sovereign</td>\n",
       "      <td>False</td>\n",
       "      <td>488.0</td>\n",
       "    </tr>\n",
       "  </tbody>\n",
       "</table>\n",
       "</div>"
      ],
      "text/plain": [
       "          name      since  signatories   industry  requireKYC    aum\n",
       "0  NTUC Income 1997-03-14            3  Financial        True   41.9\n",
       "1          GIC 2003-01-20            6  Sovereign       False  488.0"
      ]
     },
     "execution_count": 57,
     "metadata": {},
     "output_type": "execute_result"
    }
   ],
   "source": [
    "backup = customerdf.copy()\n",
    "backup"
   ]
  },
  {
   "cell_type": "code",
   "execution_count": 58,
   "id": "45f444c2-a487-4ae0-bc40-785c7cad8fb5",
   "metadata": {},
   "outputs": [
    {
     "data": {
      "text/html": [
       "<div>\n",
       "<style scoped>\n",
       "    .dataframe tbody tr th:only-of-type {\n",
       "        vertical-align: middle;\n",
       "    }\n",
       "\n",
       "    .dataframe tbody tr th {\n",
       "        vertical-align: top;\n",
       "    }\n",
       "\n",
       "    .dataframe thead th {\n",
       "        text-align: right;\n",
       "    }\n",
       "</style>\n",
       "<table border=\"1\" class=\"dataframe\">\n",
       "  <thead>\n",
       "    <tr style=\"text-align: right;\">\n",
       "      <th></th>\n",
       "      <th>name</th>\n",
       "      <th>since</th>\n",
       "      <th>signatories</th>\n",
       "      <th>industry</th>\n",
       "      <th>requireKYC</th>\n",
       "      <th>aum</th>\n",
       "    </tr>\n",
       "  </thead>\n",
       "  <tbody>\n",
       "    <tr>\n",
       "      <th>0</th>\n",
       "      <td>NTUC Income</td>\n",
       "      <td>1997-03-14</td>\n",
       "      <td>4</td>\n",
       "      <td>Financial</td>\n",
       "      <td>True</td>\n",
       "      <td>41.9</td>\n",
       "    </tr>\n",
       "    <tr>\n",
       "      <th>1</th>\n",
       "      <td>GIC</td>\n",
       "      <td>2003-01-20</td>\n",
       "      <td>4</td>\n",
       "      <td>Sovereign</td>\n",
       "      <td>True</td>\n",
       "      <td>488.0</td>\n",
       "    </tr>\n",
       "  </tbody>\n",
       "</table>\n",
       "</div>"
      ],
      "text/plain": [
       "          name      since  signatories   industry  requireKYC    aum\n",
       "0  NTUC Income 1997-03-14            4  Financial        True   41.9\n",
       "1          GIC 2003-01-20            4  Sovereign        True  488.0"
      ]
     },
     "execution_count": 58,
     "metadata": {},
     "output_type": "execute_result"
    }
   ],
   "source": [
    "backup['requireKYC'] = True\n",
    "backup['signatories'] = 4\n",
    "backup"
   ]
  },
  {
   "cell_type": "code",
   "execution_count": 59,
   "id": "3121dfbd-19c1-4c0a-a949-2054bb924eaa",
   "metadata": {},
   "outputs": [
    {
     "data": {
      "text/html": [
       "<div>\n",
       "<style scoped>\n",
       "    .dataframe tbody tr th:only-of-type {\n",
       "        vertical-align: middle;\n",
       "    }\n",
       "\n",
       "    .dataframe tbody tr th {\n",
       "        vertical-align: top;\n",
       "    }\n",
       "\n",
       "    .dataframe thead th {\n",
       "        text-align: right;\n",
       "    }\n",
       "</style>\n",
       "<table border=\"1\" class=\"dataframe\">\n",
       "  <thead>\n",
       "    <tr style=\"text-align: right;\">\n",
       "      <th></th>\n",
       "      <th>name</th>\n",
       "      <th>since</th>\n",
       "      <th>signatories</th>\n",
       "      <th>industry</th>\n",
       "      <th>requireKYC</th>\n",
       "      <th>aum</th>\n",
       "    </tr>\n",
       "  </thead>\n",
       "  <tbody>\n",
       "    <tr>\n",
       "      <th>0</th>\n",
       "      <td>NTUC Income</td>\n",
       "      <td>1997-03-14</td>\n",
       "      <td>3</td>\n",
       "      <td>Financial</td>\n",
       "      <td>True</td>\n",
       "      <td>41.9</td>\n",
       "    </tr>\n",
       "    <tr>\n",
       "      <th>1</th>\n",
       "      <td>GIC</td>\n",
       "      <td>2003-01-20</td>\n",
       "      <td>6</td>\n",
       "      <td>Sovereign</td>\n",
       "      <td>False</td>\n",
       "      <td>488.0</td>\n",
       "    </tr>\n",
       "  </tbody>\n",
       "</table>\n",
       "</div>"
      ],
      "text/plain": [
       "          name      since  signatories   industry  requireKYC    aum\n",
       "0  NTUC Income 1997-03-14            3  Financial        True   41.9\n",
       "1          GIC 2003-01-20            6  Sovereign       False  488.0"
      ]
     },
     "execution_count": 59,
     "metadata": {},
     "output_type": "execute_result"
    }
   ],
   "source": [
    "customerdf.head(2)"
   ]
  },
  {
   "cell_type": "code",
   "execution_count": 16,
   "id": "2aa0c5fe-aa29-42bf-bef6-82e81deba6eb",
   "metadata": {},
   "outputs": [],
   "source": [
    "from datetime import datetime, timezone, date"
   ]
  },
  {
   "cell_type": "code",
   "execution_count": 18,
   "id": "d5a97b71-9b4d-4457-ba5e-137afac8f485",
   "metadata": {},
   "outputs": [
    {
     "data": {
      "text/plain": [
       "datetime.datetime(2021, 6, 2, 7, 17, 56, 657725)"
      ]
     },
     "execution_count": 18,
     "metadata": {},
     "output_type": "execute_result"
    }
   ],
   "source": [
    "d = datetime.now()\n",
    "d"
   ]
  },
  {
   "cell_type": "code",
   "execution_count": 21,
   "id": "951cd259-de2f-407a-91b2-daa3dfc498b7",
   "metadata": {},
   "outputs": [
    {
     "data": {
      "text/plain": [
       "'2021-06-02'"
      ]
     },
     "execution_count": 21,
     "metadata": {},
     "output_type": "execute_result"
    }
   ],
   "source": [
    "d.date().isoformat()"
   ]
  },
  {
   "cell_type": "markdown",
   "id": "af1612d9-de51-4288-82bd-c95d8bb25383",
   "metadata": {},
   "source": [
    "- `%d` - date\n",
    "- `%m` - month\n",
    "- `%y` - year (two digit year)\n",
    "- `%Y` - Year (four digit year)\n",
    "- `%b` - month (written out, abbr to 3-letters)\n",
    "- `%B` - month (written out, non-abbreviated)"
   ]
  },
  {
   "cell_type": "code",
   "execution_count": 33,
   "id": "979da0f4-f0a2-49e0-aac7-fd59becc4fee",
   "metadata": {},
   "outputs": [
    {
     "data": {
      "text/plain": [
       "'June 02 2021'"
      ]
     },
     "execution_count": 33,
     "metadata": {},
     "output_type": "execute_result"
    }
   ],
   "source": [
    "d.date().strftime(\"%B %d %Y\")"
   ]
  },
  {
   "cell_type": "code",
   "execution_count": 4,
   "id": "f1bb19f8-0df5-4f94-ad8f-d60f12e027d5",
   "metadata": {},
   "outputs": [
    {
     "name": "stdout",
     "output_type": "stream",
     "text": [
      "<class 'str'>: Parsing: 2021-06-29 08:15:27.243860\n",
      "<class 'datetime.datetime'>\n",
      "2021-06-29\n",
      "08:15:27.243860\n",
      "----\n",
      "<class 'str'>: Parsing: Jun 28 2018 7:40AM\n",
      "<class 'datetime.datetime'>\n",
      "2018-06-28\n",
      "07:40:00\n",
      "----\n",
      "<class 'str'>: Parsing: Jun 28 2018 at 7:40AM\n",
      "<class 'datetime.datetime'>\n",
      "2018-06-28\n",
      "07:40:00\n",
      "----\n",
      "<class 'str'>: Parsing: September 18, 2017, 22:19:55\n",
      "<class 'datetime.datetime'>\n",
      "2017-09-18\n",
      "22:19:55\n",
      "----\n",
      "<class 'str'>: Parsing: Sun, 05/12/1999, 12:30PM\n",
      "<class 'datetime.datetime'>\n",
      "1999-05-12\n",
      "12:30:00\n",
      "----\n",
      "<class 'str'>: Parsing: Mon, 21 March, 2015\n",
      "<class 'datetime.datetime'>\n",
      "2015-03-21\n",
      "00:00:00\n",
      "----\n",
      "<class 'str'>: Parsing: 2018-03-12T10:12:45Z\n",
      "<class 'datetime.datetime'>\n",
      "2018-03-12\n",
      "10:12:45\n",
      "----\n",
      "<class 'str'>: Parsing: 2018-06-29 17:08:00.586525+00:00\n",
      "<class 'datetime.datetime'>\n",
      "2018-06-29\n",
      "17:08:00.586525\n",
      "----\n",
      "<class 'str'>: Parsing: 2018-06-29 17:08:00.586525+05:00\n",
      "<class 'datetime.datetime'>\n",
      "2018-06-29\n",
      "17:08:00.586525\n",
      "----\n",
      "<class 'str'>: Parsing: Tuesday , 6th September, 2017 at 4:30pm\n",
      "<class 'datetime.datetime'>\n",
      "2017-09-06\n",
      "16:30:00\n",
      "----\n"
     ]
    }
   ],
   "source": [
    "from dateutil.parser import parse\n",
    "\n",
    "date_array = [\n",
    "    '2021-06-29 08:15:27.243860',\n",
    "    'Jun 28 2018 7:40AM',\n",
    "    'Jun 28 2018 at 7:40AM',\n",
    "    'September 18, 2017, 22:19:55',\n",
    "    'Sun, 05/12/1999, 12:30PM',\n",
    "    'Mon, 21 March, 2015',\n",
    "    '2018-03-12T10:12:45Z',\n",
    "    '2018-06-29 17:08:00.586525+00:00',\n",
    "    '2018-06-29 17:08:00.586525+05:00',\n",
    "    'Tuesday , 6th September, 2017 at 4:30pm'\n",
    "]\n",
    "\n",
    "for d in date_array:\n",
    "    print(f'{type(d)}: Parsing: {d}')\n",
    "    dt = parse(d)\n",
    "    print(type(dt))\n",
    "    print(dt.date())\n",
    "    print(dt.time())\n",
    "    print('----')"
   ]
  },
  {
   "cell_type": "code",
   "execution_count": null,
   "id": "4ea8538d-a3c5-4a35-ad46-16f0b849a9b6",
   "metadata": {},
   "outputs": [],
   "source": []
  }
 ],
 "metadata": {
  "kernelspec": {
   "display_name": "dbs",
   "language": "python",
   "name": "dbs"
  },
  "language_info": {
   "codemirror_mode": {
    "name": "ipython",
    "version": 3
   },
   "file_extension": ".py",
   "mimetype": "text/x-python",
   "name": "python",
   "nbconvert_exporter": "python",
   "pygments_lexer": "ipython3",
   "version": "3.9.1"
  }
 },
 "nbformat": 4,
 "nbformat_minor": 5
}
