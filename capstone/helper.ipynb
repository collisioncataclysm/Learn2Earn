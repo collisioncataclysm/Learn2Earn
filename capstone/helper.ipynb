{
 "cells": [
  {
   "cell_type": "code",
   "execution_count": 2,
   "metadata": {},
   "outputs": [],
   "source": [
    "# Libraries and initial setup\n",
    "import warnings\n",
    "warnings.filterwarnings('ignore')\n",
    "\n",
    "import pandas as pd\n",
    "import matplotlib.pyplot as plt\n",
    "import matplotlib.ticker as mtick"
   ]
  },
  {
   "cell_type": "markdown",
   "metadata": {},
   "source": [
    "# Capstone Project: Loans Dashboard\n",
    "\n",
    "\n",
    "![](final_dashboard.png)"
   ]
  },
  {
   "cell_type": "markdown",
   "metadata": {},
   "source": [
    "## Load Data"
   ]
  },
  {
   "cell_type": "markdown",
   "metadata": {},
   "source": [
    "Let's begin by reading our dataset in. The data we'll be using is `loan_2015.csv` which located under `data/` directory.\n",
    "\n",
    "**Task 1**:\n",
    "\n",
    "**1.1.** Recall how you could use `pd.read_csv()` to read the data. When you read the data in, use `id` as `index_col` and parse `issue_d` column as date with `parse_dates`and stored the dataframe as an object named `df`!\n",
    "\n",
    "**1.2.** Use `.head()` method to check if you have done the it correctly."
   ]
  },
  {
   "cell_type": "code",
   "execution_count": 35,
   "metadata": {},
   "outputs": [
    {
     "data": {
      "text/html": [
       "<div>\n",
       "<style scoped>\n",
       "    .dataframe tbody tr th:only-of-type {\n",
       "        vertical-align: middle;\n",
       "    }\n",
       "\n",
       "    .dataframe tbody tr th {\n",
       "        vertical-align: top;\n",
       "    }\n",
       "\n",
       "    .dataframe thead th {\n",
       "        text-align: right;\n",
       "    }\n",
       "</style>\n",
       "<table border=\"1\" class=\"dataframe\">\n",
       "  <thead>\n",
       "    <tr style=\"text-align: right;\">\n",
       "      <th></th>\n",
       "      <th>year</th>\n",
       "      <th>issue_d</th>\n",
       "      <th>final_d</th>\n",
       "      <th>emp_length_int</th>\n",
       "      <th>home_ownership</th>\n",
       "      <th>home_ownership_cat</th>\n",
       "      <th>income_category</th>\n",
       "      <th>annual_inc</th>\n",
       "      <th>income_cat</th>\n",
       "      <th>loan_amount</th>\n",
       "      <th>...</th>\n",
       "      <th>interest_rate</th>\n",
       "      <th>grade</th>\n",
       "      <th>grade_cat</th>\n",
       "      <th>dti</th>\n",
       "      <th>total_pymnt</th>\n",
       "      <th>total_rec_prncp</th>\n",
       "      <th>recoveries</th>\n",
       "      <th>installment</th>\n",
       "      <th>region</th>\n",
       "      <th>issue_md</th>\n",
       "    </tr>\n",
       "    <tr>\n",
       "      <th>id</th>\n",
       "      <th></th>\n",
       "      <th></th>\n",
       "      <th></th>\n",
       "      <th></th>\n",
       "      <th></th>\n",
       "      <th></th>\n",
       "      <th></th>\n",
       "      <th></th>\n",
       "      <th></th>\n",
       "      <th></th>\n",
       "      <th></th>\n",
       "      <th></th>\n",
       "      <th></th>\n",
       "      <th></th>\n",
       "      <th></th>\n",
       "      <th></th>\n",
       "      <th></th>\n",
       "      <th></th>\n",
       "      <th></th>\n",
       "      <th></th>\n",
       "      <th></th>\n",
       "    </tr>\n",
       "  </thead>\n",
       "  <tbody>\n",
       "    <tr>\n",
       "      <th>68444620</th>\n",
       "      <td>2015</td>\n",
       "      <td>2015-01-12</td>\n",
       "      <td>1012016</td>\n",
       "      <td>10.0</td>\n",
       "      <td>MORTGAGE</td>\n",
       "      <td>3</td>\n",
       "      <td>Medium</td>\n",
       "      <td>128000</td>\n",
       "      <td>2</td>\n",
       "      <td>35000</td>\n",
       "      <td>...</td>\n",
       "      <td>11.99</td>\n",
       "      <td>C</td>\n",
       "      <td>3</td>\n",
       "      <td>6.46</td>\n",
       "      <td>0.0</td>\n",
       "      <td>0.0</td>\n",
       "      <td>0.0</td>\n",
       "      <td>778.38</td>\n",
       "      <td>leinster</td>\n",
       "      <td>Jan-12</td>\n",
       "    </tr>\n",
       "    <tr>\n",
       "      <th>68547583</th>\n",
       "      <td>2015</td>\n",
       "      <td>2015-01-12</td>\n",
       "      <td>1012016</td>\n",
       "      <td>0.5</td>\n",
       "      <td>MORTGAGE</td>\n",
       "      <td>3</td>\n",
       "      <td>Low</td>\n",
       "      <td>100000</td>\n",
       "      <td>1</td>\n",
       "      <td>8650</td>\n",
       "      <td>...</td>\n",
       "      <td>5.32</td>\n",
       "      <td>A</td>\n",
       "      <td>1</td>\n",
       "      <td>7.28</td>\n",
       "      <td>0.0</td>\n",
       "      <td>0.0</td>\n",
       "      <td>0.0</td>\n",
       "      <td>260.50</td>\n",
       "      <td>cannught</td>\n",
       "      <td>Jan-12</td>\n",
       "    </tr>\n",
       "    <tr>\n",
       "      <th>67849662</th>\n",
       "      <td>2015</td>\n",
       "      <td>2015-01-12</td>\n",
       "      <td>1012016</td>\n",
       "      <td>5.0</td>\n",
       "      <td>RENT</td>\n",
       "      <td>1</td>\n",
       "      <td>Low</td>\n",
       "      <td>35000</td>\n",
       "      <td>1</td>\n",
       "      <td>4225</td>\n",
       "      <td>...</td>\n",
       "      <td>14.85</td>\n",
       "      <td>C</td>\n",
       "      <td>3</td>\n",
       "      <td>15.22</td>\n",
       "      <td>0.0</td>\n",
       "      <td>0.0</td>\n",
       "      <td>0.0</td>\n",
       "      <td>146.16</td>\n",
       "      <td>cannught</td>\n",
       "      <td>Jan-12</td>\n",
       "    </tr>\n",
       "    <tr>\n",
       "      <th>68506885</th>\n",
       "      <td>2015</td>\n",
       "      <td>2015-01-12</td>\n",
       "      <td>1012016</td>\n",
       "      <td>10.0</td>\n",
       "      <td>RENT</td>\n",
       "      <td>1</td>\n",
       "      <td>Low</td>\n",
       "      <td>42500</td>\n",
       "      <td>1</td>\n",
       "      <td>10000</td>\n",
       "      <td>...</td>\n",
       "      <td>11.99</td>\n",
       "      <td>C</td>\n",
       "      <td>3</td>\n",
       "      <td>31.04</td>\n",
       "      <td>0.0</td>\n",
       "      <td>0.0</td>\n",
       "      <td>0.0</td>\n",
       "      <td>222.40</td>\n",
       "      <td>cannught</td>\n",
       "      <td>Jan-12</td>\n",
       "    </tr>\n",
       "    <tr>\n",
       "      <th>68341763</th>\n",
       "      <td>2015</td>\n",
       "      <td>2015-01-12</td>\n",
       "      <td>1012016</td>\n",
       "      <td>10.0</td>\n",
       "      <td>MORTGAGE</td>\n",
       "      <td>3</td>\n",
       "      <td>Low</td>\n",
       "      <td>63000</td>\n",
       "      <td>1</td>\n",
       "      <td>20000</td>\n",
       "      <td>...</td>\n",
       "      <td>10.78</td>\n",
       "      <td>B</td>\n",
       "      <td>2</td>\n",
       "      <td>10.78</td>\n",
       "      <td>0.0</td>\n",
       "      <td>0.0</td>\n",
       "      <td>0.0</td>\n",
       "      <td>432.66</td>\n",
       "      <td>cannught</td>\n",
       "      <td>Jan-12</td>\n",
       "    </tr>\n",
       "  </tbody>\n",
       "</table>\n",
       "<p>5 rows × 30 columns</p>\n",
       "</div>"
      ],
      "text/plain": [
       "          year    issue_d  final_d  emp_length_int home_ownership  \\\n",
       "id                                                                  \n",
       "68444620  2015 2015-01-12  1012016            10.0       MORTGAGE   \n",
       "68547583  2015 2015-01-12  1012016             0.5       MORTGAGE   \n",
       "67849662  2015 2015-01-12  1012016             5.0           RENT   \n",
       "68506885  2015 2015-01-12  1012016            10.0           RENT   \n",
       "68341763  2015 2015-01-12  1012016            10.0       MORTGAGE   \n",
       "\n",
       "          home_ownership_cat income_category  annual_inc  income_cat  \\\n",
       "id                                                                     \n",
       "68444620                   3          Medium      128000           2   \n",
       "68547583                   3             Low      100000           1   \n",
       "67849662                   1             Low       35000           1   \n",
       "68506885                   1             Low       42500           1   \n",
       "68341763                   3             Low       63000           1   \n",
       "\n",
       "          loan_amount  ... interest_rate  grade grade_cat    dti total_pymnt  \\\n",
       "id                     ...                                                     \n",
       "68444620        35000  ...         11.99      C         3   6.46         0.0   \n",
       "68547583         8650  ...          5.32      A         1   7.28         0.0   \n",
       "67849662         4225  ...         14.85      C         3  15.22         0.0   \n",
       "68506885        10000  ...         11.99      C         3  31.04         0.0   \n",
       "68341763        20000  ...         10.78      B         2  10.78         0.0   \n",
       "\n",
       "          total_rec_prncp recoveries  installment    region  issue_md  \n",
       "id                                                                     \n",
       "68444620              0.0        0.0       778.38  leinster    Jan-12  \n",
       "68547583              0.0        0.0       260.50  cannught    Jan-12  \n",
       "67849662              0.0        0.0       146.16  cannught    Jan-12  \n",
       "68506885              0.0        0.0       222.40  cannught    Jan-12  \n",
       "68341763              0.0        0.0       432.66  cannught    Jan-12  \n",
       "\n",
       "[5 rows x 30 columns]"
      ]
     },
     "execution_count": 35,
     "metadata": {},
     "output_type": "execute_result"
    }
   ],
   "source": [
    "## Your code here\n"
   ]
  },
  {
   "cell_type": "markdown",
   "metadata": {},
   "source": [
    "**1.3.** Once you've done the previous task correctly, using the code above, try to paste down the code in `app.py` (You will find hints on where to put the code in the script)."
   ]
  },
  {
   "cell_type": "markdown",
   "metadata": {},
   "source": [
    "## Extract Values for Cards"
   ]
  },
  {
   "cell_type": "markdown",
   "metadata": {},
   "source": [
    "The dashboard has 4 cards, where each card shows the following summary respectively:\n",
    "\n",
    "- **No. Loan Applicants**: Total loan applicants (1 row = 1 applicant).\n",
    "- **Average Loan Amounts**: The average `loan_amount` in January 2015.\n",
    "- **Good Loan percentage**: The percentage of customer with good loan (`loan_condition` = `Good Loan`)\n",
    "- **Bad Loan percentage**: The percentage of customer with bad loan (`loan_condition` = `Bad Loan`)\n"
   ]
  },
  {
   "cell_type": "markdown",
   "metadata": {},
   "source": [
    "**Task 2**:\n",
    "\n",
    "**2.1.** Recall how you could extract the length of your data with `.shape` to get the value of total loan applicants. Store the result as an object named `num_applicants`.\n",
    "\n",
    "**2.2.** Extract the average loan amounts with `.mean()` and round up the values to two decimals with `.round()`. Store the result as an object named `avg_loan_amounts`\n",
    "\n",
    "**2.3.** Recall how you could use `pd.crosstab()` to get the proportion of a categorical values. Fill in the blank (____) part of the code below to extract the values for the remaining cards!\n",
    "\n",
    "```py\n",
    "cond = pd.crosstab(\n",
    "        index = ____,\n",
    "        columns = \"percent\",\n",
    "        normalize= ____\n",
    "    )*100\n",
    "\n",
    "# Value for Good Loan Percentage\n",
    "good_loan = round(____,2)\n",
    "\n",
    "# Value for Bad Loan Percentage\n",
    "bad_loan = round(____,2)\n",
    "\n",
    "```"
   ]
  },
  {
   "cell_type": "code",
   "execution_count": 1,
   "metadata": {},
   "outputs": [],
   "source": [
    "# Your code here\n"
   ]
  },
  {
   "cell_type": "markdown",
   "metadata": {},
   "source": [
    "**2.4.** Fill in the blank (____) part of the code below to store each value as `card_data` dictionary!"
   ]
  },
  {
   "cell_type": "code",
   "execution_count": 16,
   "metadata": {},
   "outputs": [
    {
     "data": {
      "text/plain": [
       "{'num_applicants': '421,094',\n",
       " 'avg_loan_amounts': '15,240.26',\n",
       " 'good_loan': '97.13%',\n",
       " 'bad_loan': '2.87%'}"
      ]
     },
     "execution_count": 16,
     "metadata": {},
     "output_type": "execute_result"
    }
   ],
   "source": [
    "card_data = dict(\n",
    "        num_applicants =  f'{____:,}',\n",
    "        avg_loan_amounts = f'{____:,}',\n",
    "        good_loan = f'{____:,}%',\n",
    "        bad_loan = f'{____:,}%'\n",
    "    )\n",
    "\n",
    "card_data"
   ]
  },
  {
   "cell_type": "markdown",
   "metadata": {},
   "source": [
    "**2.5.** Once you've done, use the codes to fill up the blank codes in `app.py` (`Task 2`)"
   ]
  },
  {
   "cell_type": "markdown",
   "metadata": {},
   "source": [
    "## Generate Plot\n",
    "\n",
    "`loans.py` stores the skeletons of functions to create plots under the \"Performance Overview\" tab. Complete the following tasks to fill up the blank part of `loans.py`!\n",
    "\n",
    "### Total Loans by Region"
   ]
  },
  {
   "cell_type": "markdown",
   "metadata": {},
   "source": [
    "\n",
    "**Task 3.1.**:\n",
    "\n",
    "`.str.title()` to converts the first character of each region to a capital (uppercase) letter:"
   ]
  },
  {
   "cell_type": "code",
   "execution_count": 23,
   "metadata": {
    "run_control": {
     "marked": false
    }
   },
   "outputs": [
    {
     "data": {
      "text/plain": [
       "0    Matthew\n",
       "1     Alison\n",
       "2    Jocelyn\n",
       "dtype: object"
      ]
     },
     "execution_count": 23,
     "metadata": {},
     "output_type": "execute_result"
    }
   ],
   "source": [
    "# Example on how `.str.title()` works\n",
    "names = pd.Series(['matthew','alison','jocelyn'])\n",
    "names.str.title()"
   ]
  },
  {
   "cell_type": "markdown",
   "metadata": {},
   "source": [
    "**3.1.1.** Fill in the blank (___) part of the code below to change the values in `region` series:\n",
    "\n",
    "```py\n",
    "df.region = ______.str.title()\n",
    "\n",
    "```"
   ]
  },
  {
   "cell_type": "code",
   "execution_count": 24,
   "metadata": {},
   "outputs": [],
   "source": [
    "df.region = df.region.str.title()"
   ]
  },
  {
   "cell_type": "markdown",
   "metadata": {},
   "source": [
    "**3.1.2.** Fill in the blank (___) part of the code below to create the *Total Loans by Region* plot. It compares the number of applicants (row numbers) per each `region`. \n",
    "\n",
    "```py\n",
    "plt_region = df.region.____________\n",
    "```\n",
    "\n",
    "*Hint*:\n",
    "   - Recall how you could use `.value_counts()` to get counts of unique values in a column.\n",
    "   - Chain the result with `.plot(kind='bar')` to represent the values barchart. Don't worry about the plot's customization (plot title, axis rotation, etc.) as it's provided on the app skeleton. If you want to try on the customization, you could paste down the following codes below your answer:\n",
    "\n",
    "```py\n",
    "# additional customization\n",
    "plt_region.yaxis.set_major_formatter(mtick.StrMethodFormatter('{x:,.0f}'))\n",
    "plt_region.get_figure().suptitle('Total Loans by Region')\n",
    "plt.xticks(rotation = 0)\n",
    "```"
   ]
  },
  {
   "cell_type": "code",
   "execution_count": 27,
   "metadata": {},
   "outputs": [
    {
     "data": {
      "text/plain": [
       "(array([0, 1, 2, 3, 4]),\n",
       " [Text(0, 0, 'Leinster'),\n",
       "  Text(1, 0, 'Northern-Irl'),\n",
       "  Text(2, 0, 'Ulster'),\n",
       "  Text(3, 0, 'Cannught'),\n",
       "  Text(4, 0, 'Munster')])"
      ]
     },
     "execution_count": 27,
     "metadata": {},
     "output_type": "execute_result"
    },
    {
     "data": {
      "image/png": "[encoded data removed]",
      "text/plain": [
       "<Figure size 576x432 with 1 Axes>"
      ]
     },
     "metadata": {
      "needs_background": "light"
     },
     "output_type": "display_data"
    }
   ],
   "source": [
    "plt_region = df.region.____________\n",
    "\n",
    "plt_region.yaxis.set_major_formatter(mtick.StrMethodFormatter('€{x:,.0f}'))\n",
    "plt_region.get_figure().suptitle('Total Loans by Region')\n",
    "plt.xticks(rotation = 0)"
   ]
  },
  {
   "cell_type": "markdown",
   "metadata": {},
   "source": [
    "### Loan Amounts by Term"
   ]
  },
  {
   "cell_type": "markdown",
   "metadata": {},
   "source": [
    "**Task 3.2.**\n",
    "\n",
    "**3.2.1.** Fill in the blank (___) part of the code below to create the *Loan Amounts by Term* plot. It compares the distribution of loan amount (`loan_amount`) by each loan `term`.\n",
    "\n",
    "```py\n",
    "plt_term = df[_________].boxplot(by = ___)\n",
    "```\n",
    "\n",
    "*Hint*:\n",
    "- Perform subsetting on the dataframe to extract `loan_amount` and `term` columns from the data.\n",
    "\n",
    "- Make sure the boxplot is comparing the loan amount distribution by each loan `term`  \n",
    "\n",
    "- If you want to add extra customization on the result you could paste down the following codes below you answer (it also provided on `loans.py` skeleton):\n",
    "\n",
    "```py\n",
    "# additional adjustments\n",
    "plt.tight_layout()\n",
    "plt_term.yaxis.set_major_formatter(mtick.StrMethodFormatter('€{x:,.0f}'))\n",
    "plt_term.get_figure().suptitle('Loan Amounts by Term')\n",
    "plt_term.get_figure().gca().set_xlabel(\"\")\n",
    "plt_term.get_figure().gca().set_title(\"\")\n",
    "```\n"
   ]
  },
  {
   "cell_type": "code",
   "execution_count": 30,
   "metadata": {},
   "outputs": [
    {
     "data": {
      "text/plain": [
       "Text(0.5, 1.0, '')"
      ]
     },
     "execution_count": 30,
     "metadata": {},
     "output_type": "execute_result"
    },
    {
     "data": {
      "image/png": "[encoded data removed]",
      "text/plain": [
       "<Figure size 576x432 with 1 Axes>"
      ]
     },
     "metadata": {
      "needs_background": "light"
     },
     "output_type": "display_data"
    }
   ],
   "source": [
    "plt_term = df[_________].boxplot(by = ___)\n",
    "\n",
    "# additional adjustments\n",
    "plt.tight_layout()\n",
    "plt_term.yaxis.set_major_formatter(mtick.StrMethodFormatter('€{x:,.0f}'))\n",
    "plt_term.get_figure().suptitle('Loan Amounts by Term')\n",
    "plt_term.get_figure().gca().set_xlabel(\"\")\n",
    "plt_term.get_figure().gca().set_title(\"\")"
   ]
  },
  {
   "cell_type": "markdown",
   "metadata": {},
   "source": [
    "### Total Loans by Purpose\n",
    "\n",
    "In *Task 3.1*, you've learnt that using `.str` provides methods to manipulate strings value in `pd.Series`. In the cell below, we're using another methods from `.str` to tidy up the values of `loan_purpose` column.\n"
   ]
  },
  {
   "cell_type": "code",
   "execution_count": null,
   "metadata": {},
   "outputs": [],
   "source": [
    "# before adjustment\n",
    "df.purpose.head()"
   ]
  },
  {
   "cell_type": "code",
   "execution_count": 31,
   "metadata": {
    "scrolled": true
   },
   "outputs": [
    {
     "data": {
      "text/plain": [
       "id\n",
       "68444620      Home Improvement\n",
       "68547583           Credit Card\n",
       "67849662    Debt Consolidation\n",
       "68506885    Debt Consolidation\n",
       "68341763      Home Improvement\n",
       "Name: purpose, dtype: object"
      ]
     },
     "execution_count": 31,
     "metadata": {},
     "output_type": "execute_result"
    }
   ],
   "source": [
    "# after adjustment\n",
    "df.purpose = df.purpose.str.replace(\"_\",\" \").str.title()\n",
    "df.purpose.head()"
   ]
  },
  {
   "cell_type": "markdown",
   "metadata": {},
   "source": [
    "**Task 3.3.**\n",
    "\n",
    "**3.3.1.** Fill in the blank (___) part of the code below to create the *Total Amount by Purpose* plot. It compares the number of applicants (row numbers) by purposes.\n",
    "\n",
    "```py\n",
    "plt_purpose = df.purpose.______.tail(8).plot(kind='barh')\n",
    "```\n",
    "\n",
    "*Hint*:\n",
    "- Recall how you could use `value_counts()` to get the total applicants. Since `barh` plot is flipping the axis to create horizontal barchart, we also need to rearrange the values from lowest to highest by adding `ascending=True` parameter.\n"
   ]
  },
  {
   "cell_type": "code",
   "execution_count": 1,
   "metadata": {},
   "outputs": [],
   "source": [
    "plt_purpose = df.purpose.______.tail(8).plot(kind='barh')\n",
    "plt_purpose"
   ]
  },
  {
   "cell_type": "markdown",
   "metadata": {},
   "source": [
    "**3.3.2.** Use your codes in Task 3.1.-3.3. to complete the `loans.py` skeleton. Once all the skeleton has completed, you could run `flask run` to show your dashboard"
   ]
  },
  {
   "cell_type": "markdown",
   "metadata": {},
   "source": [
    "## Final Task: Create your own"
   ]
  },
  {
   "cell_type": "markdown",
   "metadata": {},
   "source": [
    "We have prepared a `Create-Your-Own` tab on the app where you and your group can play around with the dataframe and come up with your own charts. Don't forget to do the following steps:\n",
    "\n",
    "- Pass the variable onto the `render_template()` from `index()` in `app.py`\n",
    "- Make your analysis output as separate function on `loans.py` to keep the `app.py` as clean as possible, making it easy to debug.\n",
    "- Update the `index.html` to make sure it displays your intended output on the page. You can copy-and-paste the skeleton from the other plots or values\n",
    "\n",
    "If you need any help, do not hesitate to reach the TAs.\n",
    "\n",
    "Good luck!"
   ]
  },
  {
   "cell_type": "code",
   "execution_count": 33,
   "metadata": {},
   "outputs": [],
   "source": [
    "## Your code here\n",
    "\n"
   ]
  }
 ],
 "metadata": {
  "kernelspec": {
   "display_name": "py4bankers",
   "language": "python",
   "name": "py4bankers"
  },
  "language_info": {
   "codemirror_mode": {
    "name": "ipython",
    "version": 3
   },
   "file_extension": ".py",
   "mimetype": "text/x-python",
   "name": "python",
   "nbconvert_exporter": "python",
   "pygments_lexer": "ipython3",
   "version": "3.7.10"
  },
  "latex_envs": {
   "LaTeX_envs_menu_present": true,
   "autoclose": false,
   "autocomplete": true,
   "bibliofile": "biblio.bib",
   "cite_by": "apalike",
   "current_citInitial": 1,
   "eqLabelWithNumbers": true,
   "eqNumInitial": 1,
   "hotkeys": {
    "equation": "Ctrl-E",
    "itemize": "Ctrl-I"
   },
   "labels_anchors": false,
   "latex_user_defs": false,
   "report_style_numbering": false,
   "user_envs_cfg": false
  },
  "toc": {
   "base_numbering": 1,
   "nav_menu": {},
   "number_sections": true,
   "sideBar": true,
   "skip_h1_title": false,
   "title_cell": "Table of Contents",
   "title_sidebar": "Contents",
   "toc_cell": false,
   "toc_position": {},
   "toc_section_display": true,
   "toc_window_display": false
  }
 },
 "nbformat": 4,
 "nbformat_minor": 2
}